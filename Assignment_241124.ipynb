{
  "cells": [
    {
      "cell_type": "markdown",
      "metadata": {
        "id": "view-in-github",
        "colab_type": "text"
      },
      "source": [
        "<a href=\"https://colab.research.google.com/github/samueldatasci/DataMining/blob/main/Assignment_241124.ipynb\" target=\"_parent\"><img src=\"https://colab.research.google.com/assets/colab-badge.svg\" alt=\"Open In Colab\"/></a>"
      ]
    },
    {
      "cell_type": "markdown",
      "metadata": {
        "id": "0vIqBVDCsoU9"
      },
      "source": [
        "# NOTES!\n",
        "- Error in Tau/poles:<br>\n",
        "On the model_generator function, we simplified the dominant pole, as there was only one pole (a was always equal to 1). In models with a>1, and with more poles, the code in that function needs to change.\n",
        "### CHECK:\n",
        "`  dominant_pole = poles`<br>\n",
        "`  tau = -1 / np.log(dominant_pole)`<br>\n",
        "(ChatGPT) Aparently, calculating poles does not make sense when a = 0. When a=0, the system is of first order, or purely static, so apparently these concepts do not apply.\n"
      ]
    },
    {
      "cell_type": "markdown",
      "source": [
        "# Assignment on Modelling Biosystems, KU Leuven\n",
        "Produced by: Ricardo Santos\n"
      ],
      "metadata": {
        "id": "q1AazuAHNfBq"
      }
    },
    {
      "cell_type": "markdown",
      "source": [
        "## Student ID\n",
        "### Name: Ricardo Santos\n",
        "### Number:\n",
        "### Email:\n",
        "##### 2024-12-01\n"
      ],
      "metadata": {
        "id": "-a2WIORFOIW9"
      }
    },
    {
      "cell_type": "markdown",
      "source": [
        "# Initialization for Assignment 1 and Assignment 2"
      ],
      "metadata": {
        "id": "hP3fXzW_OdFb"
      }
    },
    {
      "cell_type": "code",
      "execution_count": null,
      "metadata": {
        "id": "Ti0Dgv-9gCTQ"
      },
      "outputs": [],
      "source": [
        "!pip install control\n",
        "!pip install pymannkendall\n",
        "# pip install statsmodels\n"
      ]
    },
    {
      "cell_type": "code",
      "execution_count": null,
      "metadata": {
        "id": "-dw1RaPQ-oMC"
      },
      "outputs": [],
      "source": [
        "from google.colab import files\n",
        "import seaborn as sns\n",
        "import io\n",
        "import os\n",
        "import pandas as pd\n",
        "import numpy as np\n",
        "import pymannkendall as mk\n",
        "import statsmodels.api as sm\n",
        "from collections import defaultdict\n",
        "import matplotlib.pyplot as plt\n",
        "from sklearn.metrics import root_mean_squared_error as rmse\n",
        "from sklearn.preprocessing import MinMaxScaler\n",
        "import control as ctrl\n",
        "#from sklearn.metrics import mean_absolute_error as mae\n",
        "#from sklearn.metrics import r2_score\n",
        "from scipy import signal\n"
      ]
    },
    {
      "cell_type": "code",
      "execution_count": null,
      "metadata": {
        "id": "7Db32QxDh0uX"
      },
      "outputs": [],
      "source": [
        "# prompt: Connect to google drive.\n",
        "# Set default dir to '/content/drive/MyDrive/Modelling_biosystems-main/AssignmentData/MOB_Dataset1'\n",
        "\n",
        "from google.colab import drive\n",
        "drive.mount('/content/drive')\n",
        "\n",
        "\n",
        "datafolder_part1 = \"/content/drive/MyDrive/Modelling_biosystems-main/AssignmentData/MOB_Dataset1\"\n",
        "datafolder_part2 = \"/content/drive/MyDrive/Modelling_biosystems-main/AssignmentData/MOB_Dataset2\"\n"
      ]
    },
    {
      "cell_type": "markdown",
      "source": [
        "# Assignment 1"
      ],
      "metadata": {
        "id": "6v4iDuVCNbqu"
      }
    },
    {
      "cell_type": "code",
      "execution_count": null,
      "metadata": {
        "id": "jdf6GPQ2-kvk"
      },
      "outputs": [],
      "source": [
        "def dataloader(data, na, nb, d):\n",
        "    '''Parameters:\n",
        "    data - dataset\n",
        "    na - number of a parameters\n",
        "    nb - number of b parameters\n",
        "    d - delta time\n",
        "    Return:\n",
        "    X - input data\n",
        "    y - output data\n",
        "    '''\n",
        "\n",
        "    y = data['y']\n",
        "    u = data['u']\n",
        "\n",
        "    # Initialize empty dataframe for lagged features\n",
        "    X = pd.DataFrame()\n",
        "\n",
        "    # Create lagged features for output ('a' parameters)\n",
        "    for i in range(1,na+1):\n",
        "        X['y-{}'.format(i)] = y.shift(i)\n",
        "    # Create lagged features for input ('b' parameters)\n",
        "    for i in range(0,nb):\n",
        "        X['u-{}'.format(i + d)] = u.shift(i + d)\n",
        "\n",
        "    #Only select data after a certain row, rows before that will be incomplete\n",
        "    startpos = max(na,nb+d-1)\n",
        "    X = X.iloc[startpos:]\n",
        "    y = y[startpos:]\n",
        "\n",
        "    X.reset_index(drop=True, inplace=True)\n",
        "    y.reset_index(drop=True, inplace=True)\n",
        "\n",
        "    return X, y\n",
        "\n",
        "\n",
        "\n",
        "def r_2(y, y_hat):\n",
        "    '''\n",
        "    Return R2.\n",
        "    Parameter y are the real values\n",
        "    Parameter y_hat are the correspondig predictions'''\n",
        "\n",
        "    y_mean = np.mean(y)\n",
        "    y_hat_mean = np.mean(y_hat)\n",
        "    sst = np.sum((y - y_mean) ** 2)\n",
        "    #ssr = np.sum((y - y_hat_mean) ** 2)\n",
        "    ssr = np.sum((y - y_hat) ** 2)\n",
        "    r_squared = 1 - (ssr / sst)\n",
        "    return r_squared\n",
        "\n",
        "\n",
        "\n",
        "\n",
        "def model_metrics(y_real,y_sim,na,nb):\n",
        "        # Calculate r-squared and AIC and RMSE and BIC and FPE\n",
        "        k = na + nb # number of parameters\n",
        "        n = len(y_real)\n",
        "        SSR = np.sum((y_real - y_sim) ** 2)\n",
        "        #Calculate usefull Model evaluation parameters\n",
        "        r_squared = r_2(y_real, y_sim)\n",
        "        aic =  2 * (na + nb) + n * np.log(1 - r_squared) # Evaluates the complexicity of the Model\n",
        "        Rmse = rmse(y_real, y_sim[0:])  #Root Mean Squared Error (Less sensitive to outliers: It is less affected by extreme errors compared to RMSE)\n",
        "        fpe = SSR * (n + k) / (n - k)                  #Final Prediction Error(used for model order selection)(Considers both model fit and complexity) (Asymptotically equivalent to AIC: For large sample sizes, FPE and AIC tend to select the same model)\n",
        "        bic = n * np.log(SSR / n) + k * np.log(n)      #Bayesian Information Criterion (BIC penalizes model complexity more heavily than AIC.)(Consistent: more likely to select the true model when sample is bigger)\n",
        "\n",
        "        return r_squared, aic, Rmse, bic, fpe"
      ]
    },
    {
      "cell_type": "code",
      "source": [
        "def model_generator(data, na, nb, d):\n",
        "    '''Parameters:\n",
        "    data - dataset\n",
        "    na - number of a parameters\n",
        "    nb - number of b parameters\n",
        "    d - delta time\n",
        "    Return:\n",
        "    y_loader - real values\n",
        "    ysim - simulated values\n",
        "    parameters_a - a parameters vector\n",
        "    parameters_b - b parameters vector\n",
        "    SSG -\n",
        "    tau\n",
        "    r_squared\n",
        "    aic\n",
        "    Rmse\n",
        "    bic\n",
        "    fpe\n",
        "\n",
        "    Example invocations:\n",
        "    y_loader, ysim, parameters_a, parameters_b, SSG, tau, r_squared, aic, Rmse, bic, fpe = model_generator(athlete_list[0], 0, 1, 4)\n",
        "    y_loader, ysim, parameters_a, parameters_b, SSG, tau, r_squared, aic, Rmse, bic, fpe = model_generator(athlete_list[0], 1, 1, 0)\n",
        "    y_loader, ysim, parameters_a, parameters_b, SSG, tau, r_squared, aic, Rmse, bic, fpe = model_generator(athlete_list[0], 2, 4, 2)\n",
        "\n",
        "    '''\n",
        "\n",
        "    #print(f\"Athlete: {code_name[i]}\")\n",
        "    #print('\\nGenerating Model with {} a parameters, {} b parameters and {} time delay'.format(na,nb,d))\n",
        "    #load the associated data using dataloader(data, na, nb, d)\n",
        "    X_loader, y_loader = dataloader(data, na,  nb, d)\n",
        "\n",
        "    ##Calculate the a and b parameters      #parameters vector [a0...an, b0...bm].T by the formula inv(X.T dot X) dot X.T dot y\n",
        "    parameters = np.linalg.inv(X_loader.T.dot(X_loader)).dot(X_loader.T).dot(y_loader)\n",
        "    parameters_a = parameters[:na]\n",
        "    parameters_b = parameters[na:]\n",
        "\n",
        "    ## Simulate values of Y\n",
        "    ysim = np.zeros(len(y_loader)) # the plus one is because the first value is initialized and not simulated\n",
        "    ysim[0]= y_loader.values[0] # initialize the first value\n",
        "    max_lag= max(na,nb+d-1)  # Maximum lag across both endogenous and exogenous variables\n",
        "\n",
        "    for k in range(max_lag, len(X_loader)):\n",
        "        # Add the contribution from autoregressive terms (endogenous variables)\n",
        "        for i_a in range(1,na+1): # range starts at 1, because if na=0, we have no parameter_a columns\n",
        "            #print(\"parameter a: \",i_a)\n",
        "            ysim[k] += parameters_a[i_a-1] * ysim[k - i_a]  # Note: parameters_a starts at index 0\n",
        "\n",
        "        # Add the contribution from exogenous input terms (with delay d)\n",
        "\n",
        "        ##### Sam - comentei este bloco e rescrevi abaixo.\n",
        "        for j_b in range(nb):\n",
        "            #print(\"parameter b: \",j_b)\n",
        "            ysim[k] += parameters_b[j_b] * X_loader['u-{}'.format(d+j_b)].iloc[k-j_b]  # Note: parameters_b starts at index 0\n",
        "            #print('u-{}'.format(d+j_b),j_b,d)\n",
        "\n",
        "        # for j_b in range(1, nb+1):\n",
        "        #     ysim[k] += parameters_b[j_b-1] * X_loader['u-{}'.format(d+j_b-1)].iloc[k-j_b]  # Note: parameters_b starts at index 0\n",
        "\n",
        "    #Used? Needed?\n",
        "    num = parameters_b # b [b1,b2,b3,...] (exogenous)\n",
        "    den = [1, -parameters_a] #a [1,a2,a3,...] (endogenous)\n",
        "\n",
        "    #Calculate SSG(K) and TC\n",
        "    ##SSG = how much the output of a system changes in response to a change in the input.\n",
        "    SSG = sum(parameters_b)/ (1 - sum(parameters_a)) #a unit change in the input (u) will result in a 1.33 unit change in the output (y)\n",
        "    SSG2 = sum(num)/ (sum(den))   #print(\"SSG:\", SSG,'SSG2:',SSG2)\n",
        "    #Calculate the TC\n",
        "    #Check if parameters_a has more than one element to avoid the error\n",
        "    #if len(parameters_a) > 1:\n",
        "    #    poles = 1/parameters_a[0]\n",
        "    #else:\n",
        "    #    poles = 1/parameters_a  # In case parameters_a has only one element\n",
        "\n",
        "\n",
        "    if parameters_a.size > 0:  # Check if parameters_a is not empty\n",
        "        if parameters_a.size == 1:\n",
        "            poles = 1/parameters_a\n",
        "            dominant_pole = poles\n",
        "        else:\n",
        "            poles = 1/parameters_a\n",
        "            #dominant_pole = poles[np.argmin(np.abs(poles.imag))] #get the dominant\n",
        "            dominant_pole = poles[np.argmin(np.abs(poles))] #get the dominant\n",
        "        tau = -1 / np.log(dominant_pole)\n",
        "    else:\n",
        "        poles = None\n",
        "        dominant_pole = None\n",
        "        tau = None\n",
        "    # print(f\"**** parameters_a: {parameters_a}; poles: {poles}, dominant_pole: {dominant_pole}\")\n",
        "\n",
        "    #poles2 = 1/den[1]\n",
        "\n",
        "    #Check if poles is an array before calculating dominant_pole\n",
        "    # if isinstance(poles, np.ndarray):\n",
        "    #    dominant_pole = poles[np.argmin(np.abs(poles.imag))] #get the dominant\n",
        "    # else:\n",
        "    #   dominant_pole = poles  # If poles is a scalar, directly assign to dominant_pole\n",
        "    # #dominant_pole = poles\n",
        "\n",
        "    #print(\"Time constant:\", tau)\n",
        "    #tau2 = -1 / np.log(poles[np.argmin(np.abs(poles.imag))])\n",
        "    #print(\"Time constant2:\", tau2)\n",
        "\n",
        "\n",
        "    #Models Stability\n",
        "    num = parameters_b # b [b1,b2,b3,...] (exogenous)\n",
        "    den1 =  np.insert(-parameters_a, 0, 1)\n",
        "    den = [1] + (-parameters_a).tolist() #a [1,a2,a3,...] (endogenous)\n",
        "    TF = ctrl.TransferFunction(num, den)    #define transfer function\n",
        "    #  poles, zeroes = ctrl.pzmap(TF, plot=True)  #PLOT CIRCLE AND MODEL (DELETE?CHANGE?)\n",
        "    #add unit circle\n",
        "    #plt.gca().add_patch(plt.Circle((0, 0), radius=1, fill=False, color='gray', linestyle='--'))\n",
        "    #plt.show()\n",
        "    #New Verions (TESTED, but NOT CONFIRMED TO DO THE SAME)\n",
        "    #poles, zeroes = ctrl.pole_zero_map(TF)\n",
        "    #ctrl.pole_zero_plot(TF)         #\n",
        "\n",
        "\n",
        "    ## Model evaluation for each generated model use r_squared and aic def above\n",
        "    r_squared, aic, Rmse, bic, fpe = model_metrics(y_loader,ysim,na,nb)\n",
        "\n",
        "    return y_loader, ysim, parameters_a, parameters_b, SSG, tau, r_squared, aic, Rmse, bic, fpe\n"
      ],
      "metadata": {
        "id": "R_fwWS0qeyef"
      },
      "execution_count": null,
      "outputs": []
    },
    {
      "cell_type": "markdown",
      "metadata": {
        "id": "g5bmNNkoT4mf"
      },
      "source": [
        "# 1º Practical assignment"
      ]
    },
    {
      "cell_type": "markdown",
      "source": [
        "## Load files from disk"
      ],
      "metadata": {
        "id": "FklQAB-_k4fW"
      }
    },
    {
      "cell_type": "code",
      "execution_count": null,
      "metadata": {
        "id": "2GP_kGO--wRp"
      },
      "outputs": [],
      "source": [
        "# uploaded = files.upload()\n",
        "os.chdir(datafolder_part1)\n"
      ]
    },
    {
      "cell_type": "code",
      "execution_count": null,
      "metadata": {
        "id": "J8acIURr-wOF"
      },
      "outputs": [],
      "source": [
        "A1M1_df = pd.read_csv('MOB_Dataset1_A1_M1.csv', names=['y','u'])\n",
        "A1M2_df = pd.read_csv('MOB_Dataset1_A1_M2.csv', names=['y','u'])\n",
        "A2M1_df = pd.read_csv('MOB_Dataset1_A2_M3.csv', names=['y','u'])\n",
        "A2M2_df = pd.read_csv('MOB_Dataset1_A2_M4.csv', names=['y','u'])\n",
        "A3M1_df = pd.read_csv('MOB_Dataset1_A3_M5.csv', names=['y','u'])\n",
        "A3M2_df = pd.read_csv('MOB_Dataset1_A3_M6.csv', names=['y','u'])\n",
        "A4M1_df = pd.read_csv('MOB_Dataset1_A4_M7.csv', names=['y','u'])\n",
        "A4M2_df = pd.read_csv('MOB_Dataset1_A4_M8.csv', names=['y','u'])\n",
        "A5M1_df = pd.read_csv('MOB_Dataset1_A5_M9.csv', names=['y','u'])\n",
        "A5M2_df = pd.read_csv('MOB_Dataset1_A5_M10.csv', names=['y','u'])\n",
        "A6M1_df = pd.read_csv('MOB_Dataset1_A6_M11.csv', names=['y','u'])\n",
        "A6M2_df = pd.read_csv('MOB_Dataset1_A6_M12.csv', names=['y','u'])\n",
        "\n",
        "athlete_list = [A1M1_df, A1M2_df, A2M1_df, A2M2_df, A3M1_df, A3M2_df, A4M1_df, A4M2_df, A5M1_df, A5M2_df, A6M1_df, A6M2_df]\n",
        "code_name = ['A1M1', 'A1M2', 'A2M1', 'A2M2', 'A3M1', 'A3M2', 'A4M1', 'A4M2', 'A5M1', 'A5M2', 'A6M1', 'A6M2']\n",
        "\n"
      ]
    },
    {
      "cell_type": "code",
      "source": [
        "dictathlete = {}\n",
        "for i in range(len(athlete_list)):\n",
        "    dictathlete[code_name[i]] = athlete_list[i]\n"
      ],
      "metadata": {
        "id": "5jKZHN1OmuDg"
      },
      "execution_count": null,
      "outputs": []
    },
    {
      "cell_type": "markdown",
      "metadata": {
        "id": "DUK8ty1KJFZR"
      },
      "source": [
        "## Data exploration"
      ]
    },
    {
      "cell_type": "code",
      "execution_count": null,
      "metadata": {
        "id": "wZm7YIT4NfM5"
      },
      "outputs": [],
      "source": [
        "import matplotlib.pyplot as plt\n",
        "import seaborn as sns\n"
      ]
    },
    {
      "cell_type": "code",
      "execution_count": null,
      "metadata": {
        "id": "Muj7hA6ZJIwz"
      },
      "outputs": [],
      "source": [
        "k_xlabel = \"Input (u) 3-D activity in GU\"\n",
        "k_ylabel = 'Output (y) Heart rate in BPM'\n",
        "k_axis = [0.0, 2.7, 70.0, 210.0]\n"
      ]
    },
    {
      "cell_type": "markdown",
      "metadata": {
        "id": "RPXewJxaI5OS"
      },
      "source": [
        "### Plot data for all players of each game"
      ]
    },
    {
      "cell_type": "code",
      "execution_count": null,
      "metadata": {
        "id": "_ifNiN9uDIUB"
      },
      "outputs": [],
      "source": [
        "colors = [\"Red\", \"Blue\", \"Green\", \"Orange\", \"Purple\", \"Yellow\"] # Colors for each athlete\n",
        "marker = '.'\n",
        "\n",
        "\n",
        "for game in range(2):\n",
        "    plt.figure(figsize=(10, 8))\n",
        "    for athl in range(6):\n",
        "        plt.scatter(athlete_list[athl*2+game]['u'], athlete_list[athl*2+game]['y'], label=code_name[athl*2+game], color=colors[athl], marker=marker, s=10)\n",
        "\n",
        "    plt.xlabel(k_xlabel)\n",
        "    plt.ylabel(k_ylabel)\n",
        "    plt.axis( k_axis)\n",
        "    plt.title(f'Game #{game} for all athletes')\n",
        "    plt.legend(loc='upper right', bbox_to_anchor=(1.2, 1))\n",
        "    plt.grid(True)\n",
        "    plt.show()\n",
        "\n"
      ]
    },
    {
      "cell_type": "markdown",
      "metadata": {
        "id": "XZFDkK_aGVEA"
      },
      "source": [
        "### Plot data for both games of each player"
      ]
    },
    {
      "cell_type": "code",
      "execution_count": null,
      "metadata": {
        "id": "_6kodigwLqe4"
      },
      "outputs": [],
      "source": [
        "colors = ['green', 'red']  # Colors for each game of the athlete\n",
        "colors = [\"#00407A\", '#54BCEB']  # KU Leuven!\n",
        "\n",
        "marker = '.'\n",
        "\n",
        "for athl in range(6):\n",
        "    firstgame = athl * 2\n",
        "    plt.figure(figsize=(10, 8));  # Create figure with desired size before plotting\n",
        "\n",
        "    for game in range(2):\n",
        "        plt.scatter(athlete_list[firstgame + game]['u'], athlete_list[firstgame + game]['y'], label=code_name[firstgame + game], color=colors[game], marker=marker, s=10)\n",
        "\n",
        "    plt.xlabel(k_xlabel)\n",
        "    plt.ylabel(k_ylabel)\n",
        "    plt.axis(k_axis)\n",
        "\n",
        "    plt.title(f'Athlete {athl + 1}')\n",
        "    plt.legend(loc='upper right', bbox_to_anchor=(1.2, 1))\n",
        "    plt.grid(True)\n",
        "\n",
        "    plt.show()"
      ]
    },
    {
      "cell_type": "code",
      "execution_count": null,
      "metadata": {
        "id": "b0NBM3mJMJ9K"
      },
      "outputs": [],
      "source": [
        "colors = ['green', 'red']  # Colors for each game of the athlete\n",
        "colors = [\"#00407A\", '#54BCEB']  # KU Leuven!\n",
        "marker = '.'\n",
        "\n",
        "sns.set_style(\"whitegrid\")  # Set a visually appealing style\n",
        "\n",
        "fig, axes = plt.subplots(2, 3, figsize=(24, 12))  # Create a 3x2 grid of subplots\n",
        "\n",
        "for athl in range(6):\n",
        "    firstgame = athl * 2\n",
        "    row = athl // 3  # Calculate row index\n",
        "    col = athl % 3   # Calculate column index\n",
        "    ax = axes[row, col]  # Get the current subplot\n",
        "\n",
        "    for game in range(2):\n",
        "        ax.scatter(athlete_list[firstgame + game]['u'], athlete_list[firstgame + game]['y'],\n",
        "                   label=code_name[firstgame + game], color=colors[game], marker=marker, s=10, alpha=0.7)\n",
        "\n",
        "    ax.set_xlabel(k_xlabel, fontsize=14)\n",
        "    ax.set_ylabel(k_ylabel, fontsize=14)\n",
        "    ax.axis(k_axis)\n",
        "\n",
        "    ax.set_title(f'Athlete {athl + 1}', fontsize=18, fontweight='bold')\n",
        "    ax.legend(loc='upper right', bbox_to_anchor=(1.2, 1), fontsize=12)\n",
        "    ax.grid(True, linestyle='--', alpha=0.7)\n",
        "\n",
        "    sns.despine(ax=ax)  # Remove spines for the current subplot\n",
        "    plt.tight_layout()\n",
        "\n",
        "plt.show()\n"
      ]
    },
    {
      "cell_type": "code",
      "execution_count": null,
      "metadata": {
        "id": "fV0aiGDUBrsD"
      },
      "outputs": [],
      "source": [
        "\n",
        "# Define colors and markers for each athlete\n",
        "colors = ['blue', 'blue', 'red', 'red', 'green', 'green', 'purple', 'purple', 'orange', 'orange', 'brown', 'brown']\n",
        "markers = ['.', 'x', '.', 'x', '.', 'x', '.', 'x', '.', 'x', '.', 'x']  # Dot for M1, x for M2\n",
        "\n",
        "\n",
        "plt.figure(figsize=(10, 8))  # Adjust figure size as needed\n",
        "\n",
        "# Iterate through datasets and create scatter plots with specified colors and markers\n",
        "for i, dataset in enumerate(athlete_list):\n",
        "\n",
        "    plt.scatter(dataset['u'], dataset['y'], label=code_name[i], color=colors[i], marker=markers[i], s=10)  # s controls marker size\n",
        "\n",
        "plt.xlabel('Input (u)')\n",
        "plt.ylabel('Output (y)')\n",
        "plt.title('Scatter Plot for All Athletes')\n",
        "plt.legend(loc='upper right', bbox_to_anchor=(1.2, 1)) # Adjust legend location if needed\n",
        "plt.grid(True)\n",
        "plt.show()"
      ]
    },
    {
      "cell_type": "code",
      "execution_count": null,
      "metadata": {
        "id": "wcyvOHUBxPCp"
      },
      "outputs": [],
      "source": [
        "#scatter plot all dfs\n",
        "#import matplotlib.pyplot as plt\n",
        "\n",
        "# Iterate through the datasets and create scatter plots\n",
        "for i, dataset in enumerate(athlete_list):\n",
        "    plt.figure(figsize=(8, 6))  # Adjust figure size as needed\n",
        "    plt.scatter(dataset['u'], dataset['y'], label=code_name[i], marker=\".\", s=10)\n",
        "    plt.title(f'Scatter Plot for {code_name[i]}')\n",
        "    plt.xlabel('Input (u)')\n",
        "    plt.ylabel('Output (y)')\n",
        "    plt.title(f'Scatter Plot for {code_name[i]}')\n",
        "    plt.legend()\n",
        "    plt.grid(True)\n",
        "    plt.show()\n",
        "\n"
      ]
    },
    {
      "cell_type": "markdown",
      "metadata": {
        "id": "Ik0IvKvigQaC"
      },
      "source": [
        "## Data exploration - check the covariance"
      ]
    },
    {
      "cell_type": "code",
      "execution_count": null,
      "metadata": {
        "id": "YxGHLvIIQ68h"
      },
      "outputs": [],
      "source": [
        "# Calculate and print individual covariance matrices\n",
        "# for i, dataset in enumerate(athlete_list):\n",
        "#     covariance_matrix = np.cov(dataset['u'], dataset['y'])\n",
        "#     print(f\"Covariance Matrix for {code_name[i]}:\\n{covariance_matrix}\\n\")\n",
        "\n",
        "# Create a table of covariances\n",
        "covariance_data = []\n",
        "for i, dataset in enumerate(athlete_list):\n",
        "    covariance_matrix = np.cov(dataset['u'], dataset['y'])\n",
        "    covariance_data.append([code_name[i], covariance_matrix[0, 1]])  # Extract covariance between 'u' and 'y'\n",
        "\n",
        "covariance_table = pd.DataFrame(covariance_data, columns=['Athlete', 'Covariance'])\n",
        "print(\"\\nCovariance Table:\\n\", covariance_table)\n"
      ]
    },
    {
      "cell_type": "markdown",
      "source": [
        "## Preprocessing"
      ],
      "metadata": {
        "id": "pY-Gx_idlS7b"
      }
    },
    {
      "cell_type": "code",
      "source": [
        "athlete_list[8]"
      ],
      "metadata": {
        "id": "cdk-wcCyCgC7"
      },
      "execution_count": null,
      "outputs": []
    },
    {
      "cell_type": "markdown",
      "source": [
        "# TODO!\n",
        "Here I still have to choose which line to keep for each axis; either the actual or the moving average.<br>\n",
        "Or: That may just become parameters; if averagex > 1, moving average, else, just use x.\n",
        "Same for y."
      ],
      "metadata": {
        "id": "_mDhstUj1-Bi"
      }
    },
    {
      "cell_type": "code",
      "source": [
        "def chart_athlete_game(athlete=1, game=1, normalize_u=True, normalize_y=True, window_mov_avg_u = 1, window_mov_avg_y = 1):\n",
        "    '''Graphically one athlete and one game.\n",
        "    Data is normalized by subtracting the mean.\n",
        "\n",
        "    Parameters:\n",
        "    athlete - athlete number\n",
        "    game - game number\n",
        "    normalize - if True, subtract the mean from the data\n",
        "    window_mov_avg - window size for the moving average. If 1 (default), use the actual value.\n",
        "    window_mov_avg_y - window size for the moving average. If 1 (default), use the actual value.\n",
        "    Return:\n",
        "    None\n",
        "    '''\n",
        "    #Outliers\n",
        "    dataset = athlete_list[(athlete-1)*2 + game-1].copy()\n",
        "    # print(\"dataset\")\n",
        "    # print(dataset.head(10))\n",
        "    # print(\"-----------\")\n",
        "\n",
        "    # print(f\"u: mean(): {np.mean(dataset['u'])}, min(): {np.min(dataset['u'])}, max(): {np.max(dataset['u'])}\")\n",
        "    # print(f\"y: mean(): {np.mean(dataset['y'])}, min(): {np.min(dataset['y'])}, max(): {np.max(dataset['y'])}\")\n",
        "    # print(f\"U: mean(): {dataset['u'].mean()}, min(): {dataset['u'].min()}, max(): {dataset['u'].max()}\")\n",
        "    # print(f\"Y: mean(): {dataset['y'].mean()}, min(): {dataset['y'].min()}, max(): {dataset['y'].max()}\")\n",
        "\n",
        "    # Center values around zero\n",
        "    if normalize_u:\n",
        "        dataset['u'] = dataset['u'] - np.mean(dataset['u'])\n",
        "    if normalize_y:\n",
        "        dataset['y'] = dataset['y'] - np.mean(dataset['y'])\n",
        "\n",
        "    mov_avrg_u = dataset['u'].rolling(window=window_mov_avg_u, center=True, min_periods=1).mean()\n",
        "    mov_avrg_y = dataset['y'].rolling(window=window_mov_avg_y, center=True, min_periods=1).mean()\n",
        "\n",
        "    # print(f\"mov_avrg_u: {mov_avrg_u}\")\n",
        "    # print(f\"mov_avrg_y: {mov_avrg_y}\")\n",
        "\n",
        "    #result = mk.original_test(data)\n",
        "    trend = mk.original_test(dataset['y'])\n",
        "    #plot\n",
        "    fig, ax1 = plt.subplots(figsize=(20, 6))\n",
        "\n",
        "    ax1.set_xlabel('X-axis Time')\n",
        "    ax1.set_ylabel('U1-axis Output', color='blue')\n",
        "    ax1.tick_params('y', colors='blue')\n",
        "\n",
        "    ax2 = ax1.twinx()\n",
        "    #ax2.plot(dataset['u'], color='green', label='Input')\n",
        "    if window_mov_avg_u > 1:\n",
        "        ax2.plot(mov_avrg_u, color='orange', label='Mov-Mean_Input')\n",
        "    else:\n",
        "        ax2.plot(mov_avrg_u, color='orange', label='Input')\n",
        "\n",
        "    ax2.set_ylabel('Y2-axis Input', color='green')\n",
        "    ax2.tick_params('y', colors='green')\n",
        "\n",
        "\n",
        "    # Compute the linear trend line\n",
        "    x_values_trend = range(len(dataset['y']))  # Assuming x-values correspond to indices in the dataset\n",
        "    linear_trend = [trend.slope * x + trend.intercept for x in x_values_trend]\n",
        "\n",
        "    # Plot the real output and moving average\n",
        "    #ax1.plot(dataset['y'], color='blue', label='Real Output')\n",
        "    if window_mov_avg_y > 1:\n",
        "        ax1.plot(mov_avrg_y, color='red', label='Mov-Mean Output')\n",
        "    else:\n",
        "        ax1.plot(mov_avrg_y, color='red', label='Output')\n",
        "\n",
        "    # Add the trend line\n",
        "    #ax3 = ax1.twinx()\n",
        "    ax1.plot(linear_trend, color='purple', linestyle='--', label='Trend', linewidth=2)\n",
        "    # # Add the linear trend line\n",
        "    #ax1.plot(x_values, linear_trend, color='purple', linestyle='--', label='Linear Trend (y = {:.4f}x + {:.2f})'.format(slope, intercept), linewidth=2)\n",
        "\n",
        "\n",
        "    fig.legend(loc=\"upper right\")\n",
        "    ax1.set_title( f'Athlete {athlete} - Game {game}')\n",
        "    fig.tight_layout()\n",
        "\n",
        "    #return trend\n",
        "    return\n"
      ],
      "metadata": {
        "id": "_8-BAFtim9w_"
      },
      "execution_count": null,
      "outputs": []
    },
    {
      "cell_type": "code",
      "source": [
        "chart_athlete_game(athlete=1, game=1, normalize_u=True, normalize_y=True)\n",
        "chart_athlete_game(athlete=1, game=1, normalize_u=False, normalize_y=False)\n",
        "\n"
      ],
      "metadata": {
        "id": "7zxXvTGeEoQ2"
      },
      "execution_count": null,
      "outputs": []
    },
    {
      "cell_type": "code",
      "source": [
        "# ath=4, gm=0\n",
        "for ath in range(1,7):\n",
        "    for gm in range(1,3):\n",
        "        chart_athlete_game(athlete=ath, game=gm)\n"
      ],
      "metadata": {
        "id": "j8y2E73EpPuW"
      },
      "execution_count": null,
      "outputs": []
    },
    {
      "cell_type": "code",
      "execution_count": null,
      "metadata": {
        "id": "X0KIvM64Xift"
      },
      "outputs": [],
      "source": [
        "#1ºData Preparation\n",
        "#Pre-processing\n",
        "\n",
        "#High frequency disturbances (too high measurement frequency -> Downsampling)\n",
        "#1ºlow pass filter | 2º Downsampling\n",
        "\n",
        "\n",
        "#Outliers\n",
        "dataset = athlete_list[8]\n",
        "\n",
        "dataset['u'] = dataset['u'] - np.mean(dataset['u'])\n",
        "dataset['y'] = dataset['y'] - np.mean(dataset['y'])\n",
        "\n",
        "mov_avrg_u = dataset['u'].rolling(window=5, center=True, min_periods=1).mean()\n",
        "mov_avrg_y = dataset['y'].rolling(window=2, center=True, min_periods=1).mean()\n",
        "#result = mk.original_test(data)\n",
        "trend = mk.original_test(dataset['y'])\n",
        "#plot\n",
        "fig, ax1 = plt.subplots(figsize=(20, 6))\n",
        "\n",
        "#ax1.plot(dataset['y'], color='blue', label='Real_Output')\n",
        "#ax1.plot(mov_avrg_y, color='red', label='Mov-Mean-output')\n",
        "ax1.set_xlabel('X-axis Time')\n",
        "ax1.set_ylabel('U1-axis Output', color='blue')\n",
        "ax1.tick_params('y', colors='blue')\n",
        "\n",
        "ax2 = ax1.twinx()\n",
        "ax2.plot(dataset['u'], color='green', label='Input')\n",
        "ax2.plot(mov_avrg_u, color='orange', label='Mov-Mean_Input')\n",
        "\n",
        "ax2.set_ylabel('Y2-axis Input', color='green')\n",
        "ax2.tick_params('y', colors='green')\n",
        "\n",
        "fig.legend(loc=\"upper right\")\n",
        "fig.tight_layout()\n"
      ]
    },
    {
      "cell_type": "code",
      "execution_count": null,
      "metadata": {
        "id": "dr38Drz-UNVn"
      },
      "outputs": [],
      "source": [
        "#1ºData Preparation\n",
        "#Pre-processing && Ploting\n",
        "limit = 0\n",
        "for athlete in athlete_list:\n",
        "  #Start all values at Zero\n",
        "  print(f\"Athlete:{athlete.shape}\")\n",
        "  #athlete['u'] = athlete['u'] - athlete['u'][0]\n",
        "  #athlete['y'] = athlete['y'] - athlete['y'][0]\n",
        "\n",
        "  athlete['u'] = athlete['u'] - athlete['u'].min()\n",
        "  athlete['y'] = athlete['y'] - athlete['y'].min()\n",
        "\n",
        "  athlete['u'] = athlete['u'].rolling(window=5, center=True, min_periods=1).mean()\n",
        "  athlete['y'] = athlete['y'].rolling(window=2, center=True, min_periods=1).mean()\n",
        "\n",
        "\n",
        "  #Ploting using two axis with different scales\n",
        "  fig, ax1 = plt.subplots(figsize=(20, 6))\n",
        "  ax1.plot(athlete['u'], color='blue', label='Input')\n",
        "  ax1.set_xlabel('X-axis Time')\n",
        "  ax1.set_ylabel('U1-axis Input', color='blue')\n",
        "  ax1.tick_params('y', colors='blue')\n",
        "  ax2 = ax1.twinx()\n",
        "  print(\"athlete['u']\",'Max:',athlete['u'].max(),'Min:',athlete['u'].min())\n",
        "  print(\"athlete['y']\",'Max:',athlete['y'].max(),'Min:',athlete['y'].min())\n",
        "\n",
        "  #trend = mk.original_test(athlete['y'])\n",
        "  ax3 = ax1.twinx()\n",
        "  #ax3.plot(trend, color='green', label='Output')\n",
        "\n",
        "  '''  if athlete.shape[0] == 7743 and limit == 0:\n",
        "    print(\"tEAWDAWDrue\")\n",
        "    athlete_list[0]['u'] = athlete['u']\n",
        "    athlete_list[0]['y'] = athlete['y']\n",
        "    limit +=+ 1'''\n",
        "  #y_mean = np.mean(athlete['y'])\n",
        "  #print(\"Mean of y:\", y_mean)\n",
        "  #print(\"Variance of y:\", np.var(y))\n",
        "  ax2.plot(athlete['y'], color='red', label='Output')\n",
        "  ax2.set_ylabel('Y2-axis Output', color='red')\n",
        "  ax2.tick_params('y', colors='red')\n",
        "  fig.legend(loc=\"upper right\")\n",
        "  fig.tight_layout()\n"
      ]
    },
    {
      "cell_type": "code",
      "execution_count": null,
      "metadata": {
        "id": "d3JJmxSsBAJ0"
      },
      "outputs": [],
      "source": [
        "#Smoothing the Data\n",
        "#capture important patterns in the data, while leaving out noise or other fine-scale structures/rapid phenomena."
      ]
    },
    {
      "cell_type": "markdown",
      "metadata": {
        "id": "PlOimBKSduws"
      },
      "source": [
        "## 2º System Identification"
      ]
    },
    {
      "cell_type": "code",
      "execution_count": null,
      "metadata": {
        "id": "UKFki8Mp-HaT"
      },
      "outputs": [],
      "source": [
        "from re import X\n",
        "# Find the best model structure (time-invariant modelling)\n",
        "results_df = pd.DataFrame(columns=['Athlete_Code','Model_Index', 'na', 'nb', 'd', 'AIC', 'Rsq','RMSE','BIC','FPE'])\n",
        "selected_models = pd.DataFrame(columns=['Athlete_Code','ParamCount','ParamValues','Metrics'])  #ParamCount[na:nb:d] || ParamValues[na,nb] || Metrics[Rsq, AIC, FPE]\n",
        "\n",
        "# Calculate ARX models to the evaluation data with all possible parameters to find the best fit by checking r-squared and AIC\n",
        "# Define a max for a, b, and delay (d)\n",
        "na_min = 1\n",
        "nb_min = 0\n",
        "xdelay_min = 0\n",
        "\n",
        "na_max = 3\n",
        "nb_max = 2\n",
        "xdelay_max = 2\n",
        "model_count=0\n",
        "\n",
        "##Loop through parameters\n",
        "#Starts 1:1:0 .... 3,3,3               (1,na_max|1,nb_max|xdelay_max) (max=4)\n",
        "#Starts 1:1:0 .... 4,4,4               (1,na_max+1|1,nb_max+1|xdelay_max+1)(max=4)\n",
        "#Starts 0:1:0 .... 3,4,4               (na_max|1,nb_max+1|xdelay_max+1)(max=4)\n",
        "\n",
        "for i in range(len(athlete_list)):\n",
        "  data = athlete_list[i]\n",
        "  model_count=0\n",
        "  print(f\"Athlete: {code_name[i]}\")\n",
        "#   for na in range(na_max):\n",
        "#     for nb in range(1,nb_max+1):\n",
        "#       for d in range(xdelay_max+1):\n",
        "  for na in range(na_min, na_max):\n",
        "    for nb in range(nb_min+1,nb_max+1):\n",
        "      for d in range(xdelay_min, xdelay_max+1):\n",
        "        print(f'>>> Model #{model_count} Dataset:{code_name[i]}, params: na={na}, nb={nb}, d={d}')\n",
        "\n",
        "\n",
        "        # #load the associated data using dataloader(data, na, nb, d)\n",
        "        # X_loader, y_loader = dataloader(data, na,  nb, d)\n",
        "        # #print(\"X_loader:\",X_loader)#print(\"y_loader:\",y_loader)\n",
        "\n",
        "\n",
        "        # #Correction to use python## Only when values are equal to zero\n",
        "        # if X_loader.empty:#\n",
        "        #     print(\"Skipping model due to empty X_loader.\")\n",
        "        #     continue # proceed to next iteration\n",
        "        # if y_loader.empty:\n",
        "        #     print(\"Skipping model due to empty y_loader.\")\n",
        "        #     continue # proceed to next iteration\n",
        "\n",
        "\n",
        "        ##Calculate the a and b parameters\n",
        "        y_loader, ysim, parameters_a, parameters_b, SSG, tau, r_squared, aic, Rmse, bic, fpe = model_generator(data, na, nb, d)\n",
        "\n",
        "\n",
        "        ## Model evaluation for each generated model use r_squared and aic def above\n",
        "        # Calculate r-squared and AIC and RMSE and BIC and FPE\n",
        "\n",
        "\n",
        "        print(f\"its regression yield r squared: {r_squared}, Akaike's information criteria: {aic}\")\n",
        "\n",
        "\n",
        "\n",
        "        # Save relevant information to the empty lists\n",
        "        new_row = pd.DataFrame({'Athlete_Code': code_name[i],'Model_Index': [model_count], 'na': [na], 'nb': [nb], 'd': [d], 'AIC': [aic], 'Rsq': [r_squared],'RMSE':[Rmse], 'BIC':[bic],'FPE':[fpe], 'Parameters_a':[parameters_a], 'Parameters_b':[parameters_b]})\n",
        "        results_df = pd.concat([results_df, new_row], ignore_index=True)\n",
        "\n",
        "        # Update the model counter\n",
        "        model_count += 1\n",
        "\n",
        "\n",
        "\n",
        "  #Plot for each player/game\n",
        "  fig, ax1 = plt.subplots(figsize=(20, 6))\n",
        "  X_axis = np.arange(len(results_df)) #results_df['Model_Index']\n",
        "\n",
        "  #For R-square Error\n",
        "  ax1.plot(X_axis, results_df['Rsq'], color='blue', label='R-squared')\n",
        "  ax1.set_xlabel('Model Index', fontsize=14)  # Increased font size\n",
        "  ax1.set_ylabel('R-squared', color='blue', fontsize=14)  # Increased font size\n",
        "  ax1.tick_params(axis='y', labelcolor='blue', labelsize=12)  # Increased tick label size\n",
        "\n",
        "  #For AIC\n",
        "  ax2 = ax1.twinx()  # instantiate a second axes that shares the same x-axis\n",
        "  ax2.plot(X_axis, results_df['AIC'], color='red', label='AIC')\n",
        "  ax2.set_ylabel('AIC', color='red', fontsize=14)  # Increased font size\n",
        "  ax2.tick_params(axis='y', labelcolor='red', labelsize=12)  # Increased tick label size\n",
        "\n",
        "  #For RMSE\n",
        "  ax3 = ax1.twinx()\n",
        "  ax3.plot(X_axis, results_df['RMSE'], color='green', label='RMSE', linestyle='--')\n",
        "  ax3.set_ylabel('RMSE', color='green', fontsize=14)\n",
        "  ax3.tick_params(axis='y', labelcolor='green', labelsize=12)\n",
        "\n",
        "  #For FPE\n",
        "  ax4 = ax1.twinx()\n",
        "  ax4.plot(X_axis, results_df['FPE'], color='purple', label='FPE', linestyle=':')\n",
        "  ax4.set_ylabel('RMSE', color='purple', fontsize=14)\n",
        "  ax4.tick_params(axis='y', labelcolor='purple', labelsize=12)\n",
        "\n",
        "  #For BIC\n",
        "  ax5 = ax4.twinx()\n",
        "  ax5.plot(X_axis, results_df['BIC'], color='orange', label='BIC', linestyle='-.')\n",
        "  ax5.set_ylabel('BIC', color='orange', fontsize=14)\n",
        "  ax5.tick_params(axis='y', labelcolor='orange', labelsize=12)\n",
        "\n",
        "  # General graphic configs\n",
        "  fig.legend(loc=\"upper right\", fontsize=12)  # Add a legend for both plots, increased font size\n",
        "  ax1.grid(True, linestyle='--', alpha=0.7)  # Added grid with dashed lines and transparency\n",
        "  ax2.grid(True, linestyle='--', alpha=0.7)  # Added grid with dashed lines and transparency\n",
        "  plt.title('Model Evaluation Metrics vs. Model Index', fontsize=16)  # Added title with increased font size\n",
        "  plt.tight_layout()  # Adjust layout to prevent overlapping elements\n",
        "plt.show()"
      ]
    },
    {
      "cell_type": "code",
      "source": [
        "\n",
        "# Group data by 'Athlete_Code'\n",
        "grouped_data = results_df.groupby('Athlete_Code')\n",
        "\n",
        "# Iterate through each group and create a chart\n",
        "for athlete_code, group_df in grouped_data:\n",
        "    plt.figure(figsize=(8, 6))  # Adjust figure size if needed\n",
        "    for index, row in group_df.iterrows():\n",
        "        legend_label = f\"{row['na']}:{row['nb']}:{row['d']}\"\n",
        "        plt.scatter(row['AIC'], row['Rsq'], label=legend_label, marker='o', s=50)  # Customize marker and size if desired\n",
        "    plt.xlabel('AIC')\n",
        "    plt.ylabel('Rsq')\n",
        "    plt.title(f'Rsq vs AIC for {athlete_code}')\n",
        "    plt.legend(loc='best', fontsize='small')  # Adjust legend location and font size if needed\n",
        "    plt.grid(True)\n",
        "    plt.show()\n"
      ],
      "metadata": {
        "id": "g0CpQ8IWkL-o"
      },
      "execution_count": null,
      "outputs": []
    },
    {
      "source": [
        "# @title AIC vs Rsq\n",
        "\n",
        "from matplotlib import pyplot as plt\n",
        "results_df.plot(kind='scatter', x='AIC', y='Rsq', s=32, alpha=.8)\n",
        "plt.gca().spines[['top', 'right',]].set_visible(False)\n",
        "plt.xlabel('AIC')\n",
        "plt.ylabel('Rsq')\n",
        "plt.title('AIC vs Rsq')\n",
        "plt.show()\n"
      ],
      "cell_type": "code",
      "execution_count": null,
      "outputs": [],
      "metadata": {
        "id": "EQZSocg6la5F"
      }
    },
    {
      "cell_type": "code",
      "source": [],
      "metadata": {
        "id": "oqECSdQKlFhv"
      },
      "execution_count": null,
      "outputs": []
    },
    {
      "source": [
        "# @title AIC\n",
        "\n",
        "from matplotlib import pyplot as plt\n",
        "results_df['AIC'].plot(kind='hist', bins=20, title='AIC')\n",
        "plt.gca().spines[['top', 'right',]].set_visible(False)\n"
      ],
      "cell_type": "code",
      "execution_count": null,
      "outputs": [],
      "metadata": {
        "id": "etIFxn_dkg04"
      }
    },
    {
      "cell_type": "code",
      "source": [],
      "metadata": {
        "id": "0pXYBh_gkL7n"
      },
      "execution_count": null,
      "outputs": []
    },
    {
      "cell_type": "code",
      "source": [],
      "metadata": {
        "id": "chQEw6w7kL4b"
      },
      "execution_count": null,
      "outputs": []
    },
    {
      "cell_type": "code",
      "source": [],
      "metadata": {
        "id": "WeKyKo11kLs8"
      },
      "execution_count": null,
      "outputs": []
    },
    {
      "cell_type": "code",
      "execution_count": null,
      "metadata": {
        "id": "2tI4LhnP8sTm"
      },
      "outputs": [],
      "source": [
        "results_df"
      ]
    },
    {
      "cell_type": "code",
      "execution_count": null,
      "metadata": {
        "id": "zCI_IvLn15aF"
      },
      "outputs": [],
      "source": [
        "#Select Best Models\n",
        "scaler = MinMaxScaler()\n",
        "normalized_metrics = scaler.fit_transform(results_df[['AIC', 'Rsq', 'FPE', 'BIC', 'RMSE']])\n",
        "# Create a new DataFrame with the normalized metrics\n",
        "normalized_df = pd.DataFrame(normalized_metrics, columns=['AIC_norm', 'Rsq_norm', 'FPE_norm', 'BIC_norm', 'RMSE_norm'])\n",
        "selection_df = pd.concat([results_df, normalized_df], axis=1)\n",
        "\n",
        "\n",
        "#best_models_df = pd.DataFrame(columns=['Athlete_Code','ParamCount','ParamValues','Metrics'])  #ParamCount[na:nb:d] || ParamValues[na,nb] || Metrics[Rsq, AIC, FPE]\n",
        "best_models_df = pd.DataFrame()\n",
        "\n",
        "\n",
        "num_models = na_max*nb_max*(xdelay_max+1)\n",
        "cases = len(results_df)/(num_models) #12\n",
        "\n",
        "#LOOP for each case (models)\n",
        "for i in range(int(cases)):\n",
        "  print(\"Case: \",i,\"Start: \",(i*num_models),\"End: \",(i+1)*num_models)\n",
        "  #Select each dataset models data\n",
        "  selected_df = selection_df[(i*num_models):(i+1)*num_models].copy()\n",
        "\n",
        "  #Create a Ranking Selection\n",
        "  selected_df['AIC_rank'] = selected_df['AIC'].rank()\n",
        "  selected_df['BIC_rank'] = selected_df['BIC'].rank()\n",
        "\n",
        "  # Rank by Rsq\n",
        "  selected_df['Rsq_rank'] = selected_df['Rsq'].rank(ascending=False)  # Note: ascending=False for Rsq\n",
        "\n",
        "  # Calculate the combined ranking\n",
        "  selected_df['Ranking'] = selected_df['Rsq_rank'] + selected_df['AIC_rank']+ selected_df['BIC_rank']\n",
        "\n",
        "  best_df = selected_df.sort_values(by='Ranking', ascending=True).iloc[0]\n",
        "  #new_row = pd.DataFrame({'Athlete_Code':[filter['Athlete_Code'][0]],'ParamCount'[\"{}:{}:{}\".format(filter['na'][0],filter['nb'][0],filter['d'][0])],'ParamValues':[],'Metrics':[filter['Rsq'][0],filter['AIC'][0],filter['FPE'][0]]})\n",
        "\n",
        "  #print(best_df)\n",
        "  #print(selected_df.sort_values(by='Ranking', ascending=True))\n",
        "\n",
        "\n",
        "\n",
        "  new_row = pd.DataFrame({'Athlete_Code': [best_df['Athlete_Code']],\n",
        "                          'na': [best_df['na']],\n",
        "                          'nb': [best_df['nb']],\n",
        "                          'd': [best_df['d']],\n",
        "                          'Ranking': [best_df['Ranking']],\n",
        "                          'AIC_rank': [best_df['AIC_rank']],\n",
        "                          'Rsq_rank': [best_df['Rsq_rank']],\n",
        "                          'BIC_rank': [best_df['BIC_rank']],\n",
        "                          'Rsq': [best_df['Rsq']],\n",
        "                          'AIC': [best_df['AIC']],\n",
        "                          'BIC': [best_df['BIC']],\n",
        "                          'FPE': [best_df['FPE']],\n",
        "                          'Parameters_a':[parameters_a],\n",
        "                          'Parameters_b':[parameters_b]})\n",
        "\n",
        "  best_models_df = pd.concat([best_models_df, new_row], ignore_index=True)\n",
        "\n",
        "  #print(selected_df.sort_values(by='Rsq', ascending=False)[:3])\n",
        "  #print(selected_df.sort_values(by='AIC', ascending=True)[:3])\n",
        "  #print(selected_df.sort_values(by='FPE', ascending=True)[:3])\n"
      ]
    },
    {
      "cell_type": "code",
      "execution_count": null,
      "metadata": {
        "id": "hWZZatZL3Hwp"
      },
      "outputs": [],
      "source": [
        "best_models_df"
      ]
    },
    {
      "cell_type": "code",
      "execution_count": null,
      "metadata": {
        "id": "RDawNtK56hJB"
      },
      "outputs": [],
      "source": [
        "results_df.sort_values(by='Rsq', ascending=False)\n",
        "#Rsq: 1,5,0,16,11,6,15,10,61\n",
        "#AIC: 1,5,0,6,11,16,15,10,61\n",
        "#FPE: 0,5,1,60,72,71,62,75,76"
      ]
    },
    {
      "cell_type": "code",
      "execution_count": null,
      "metadata": {
        "id": "Mk4lfNFuJSza"
      },
      "outputs": [],
      "source": [
        "#Simulation best model structure\n",
        "number_a=1\n",
        "number_b=2\n",
        "d=0\n",
        "\n",
        "data = athlete_list[2]\n",
        "# print the relative dataframe and check its columns\n",
        "y_loader, y_auto, parameters_a, parameters_b, SSG, tau, r_squared, aic, Rmse, bic, fpe = model_generator(data, number_a, number_b, d)\n",
        "\n",
        "\n",
        "'''y = np.zeros(len(data))\n",
        "y_auto = np.zeros(len(data))\n",
        "y_auto[:max(number_a,number_b+d)] = data['y'][0]\n",
        "#works for (0,1,0),(1,0,0)\n",
        "for k in range(max(number_a,number_b +d), len(X_loader)):\n",
        "  ##AUTOMATIC\n",
        "  # Add the contribution from autoregressive terms (endogenous variables)\n",
        "  for i_a in range(1, number_a + 1):\n",
        "      y_auto[k] += den[i_a-1] * y_auto[k - i_a]  # Note: parameters_a starts at index 0\n",
        "  # Add the contribution from exogenous input terms (with delay d)\n",
        "  for j_b in range(number_b):\n",
        "    #print(\"Input: \",'u-{}'.format(j_b+d))\n",
        "    y_auto[k] += num[j_b] * X_loader['u-{}'.format(j_b+d)].iloc[k-j_b-d]'''\n",
        "\n",
        "\n",
        "\n",
        "#Ploting\n",
        "plt.figure(figsize=(20, 6))\n",
        "X_axis = np.arange(0,y_loader.shape[0])\n",
        "print(X_axis)\n",
        "# Plot the actual values (y_loader)\n",
        "plt.plot(data['y'], label='Real Value (y_loader)', color='blue')\n",
        "plt.plot(data['u'], label='Real Input (y_loader)', color='purple', linestyle=':')\n",
        "# Plot the original data (y)    *AUTOMATIC\n",
        "plt.plot(X_axis, y_auto, label='Predicted Automatic (y_auto)', color='red', linestyle='--')\n",
        "\n",
        "# Add labels and title\n",
        "plt.xlabel('Time / Index')\n",
        "plt.ylabel('Values')\n",
        "plt.title('Comparison of Real data (y_loader) and Model Prediction (y_auto)')\n",
        "plt.legend()  # Add a legend\n",
        "plt.grid(True) # Add grid lines for better readability\n",
        "# Adjust the y-axis limits if necessary for better visualization\n",
        "#plt.ylim([50, 200])\n",
        "plt.show()"
      ]
    },
    {
      "cell_type": "code",
      "execution_count": null,
      "metadata": {
        "id": "8KAmbIL6X5kC"
      },
      "outputs": [],
      "source": [
        "#Select one model and applie to all the datasets\n",
        "number_a=1\n",
        "number_b=2\n",
        "d=0\n",
        "one_4_all = pd.DataFrame(columns=['Athlete_Code', 'na', 'nb', 'd','SSG','TC' ,'AIC', 'Rsq','RMSE','BIC','FPE'])\n",
        "model_count=0\n",
        "\n",
        "for i in range(len(athlete_list)):\n",
        "  data = athlete_list[i]\n",
        "  print(f\"Athlete: {code_name[i]}\")\n",
        "  print('\\nModel #{} \\nwith {} a parameters, {} b parameters and {} time delay'.format(model_count,number_a,number_b,d))\n",
        "  #load the associated data using dataloader(data, na, nb, d)\n",
        "\n",
        "  y_loader, y_auto, parameters_a, parameters_b, SSG, tau, r_squared, aic, Rmse, bic, fpe = model_generator(data, number_a, number_b, d)\n",
        "\n",
        "\n",
        "\n",
        "  new_row = pd.DataFrame({'Athlete_Code': code_name[i],'SSG':[SSG],'TC':[tau], 'Parameters_a':[parameters_a], 'Parameters_b':[parameters_b], 'na': [number_a], 'nb': [number_b], 'd': [d], 'AIC': [aic], 'Rsq': [r_squared],'RMSE':[Rmse], 'BIC':[bic],'FPE':[fpe]})\n",
        "\n",
        "  one_4_all = pd.concat([one_4_all, new_row], ignore_index=True)\n",
        "\n",
        "\n",
        "\n",
        "  print(\"its regression yield r squared: {}, Akaike's information criteria: {}\".format(r_squared, aic))\n",
        "\n",
        "  # Save relevant information to the empty lists\n",
        "  #new_row = pd.DataFrame({'Athlete_Code': code_name[i],'Model_Index': [model_count], 'na': [na], 'nb': [nb], 'd': [d], 'AIC': [aic], 'Rsq': [r_squared],'RMSE':[Rmse], 'BIC':[bic],'FPE':[fpe]})\n",
        "  #results_df = pd.concat([results_df, new_row], ignore_index=True)\n",
        "        # Update the model counter\n",
        "  model_count += 1\n",
        "\n",
        "\n",
        "\n",
        "#Do the parameter estimates vary a lot between the subjects or between the volleyball matches?\n",
        "\n"
      ]
    },
    {
      "cell_type": "code",
      "execution_count": null,
      "metadata": {
        "id": "XjntCufGo4QH"
      },
      "outputs": [],
      "source": [
        "one_4_all"
      ]
    },
    {
      "cell_type": "code",
      "execution_count": null,
      "metadata": {
        "id": "P2kixQp2oFxV"
      },
      "outputs": [],
      "source": [
        "#Do the parameter estimates vary a lot between the subjects or between the volleyball matches?\n",
        "athlete_codes = one_4_all['Athlete_Code'].to_list()\n",
        "\n",
        "#Plot for each player/game\n",
        "fig, ax1 = plt.subplots(figsize=(20, 6))\n",
        "X_axis = athlete_codes #results_df['Model_Index']\n",
        "\n",
        "#plot parameters A\n",
        "ax1.plot(X_axis, one_4_all['Parameters_a'].str[0].tolist(), color='blue', label='A1')\n",
        "#ax1.plot(X_axis, one_4_all['Param_a'].str[1].tolist(), color='blue', label='A2')\n",
        "#ax1.plot(X_axis, one_4_all['Param_a'].str[2].tolist(), color='blue', label='A3')\n",
        "ax1.set_xlabel('Athlete Code', fontsize=14)  # Increased font size\n",
        "ax1.set_ylabel('Value', fontsize=14)  # Increased font size\n",
        "ax1.tick_params(axis='y', labelcolor='blue', labelsize=12)  # Increased tick label size\n",
        "\n",
        "#Plot parameters B\n",
        "ax1.plot(X_axis, one_4_all['Parameters_b'].str[0].tolist(), color='red', label='B0')\n",
        "ax1.plot(X_axis, one_4_all['Parameters_b'].str[1].tolist(), color='orange', label='B1')\n",
        "#ax1.plot(X_axis, one_4_all['Param_b'].str[2].tolist(), color='red', label='B2')\n",
        "\n",
        "'''#First param B\n",
        "x2 = ax1.twinx()  # instantiate a second axes that shares the same x-axis\n",
        "ax2.plot(X_axis, one_4_all['Param_b'].str[0].tolist(), color='red', label='AIC')\n",
        "#ax2.plot(X_axis, one_4_all['Param_b'].str[1].tolist(), color='red', label='AIC')\n",
        "ax2.set_ylabel('Param_b', color='red', fontsize=14)  # Increased font size\n",
        "ax2.tick_params(axis='y', labelcolor='red', labelsize=12)  # Increased tick label size\n",
        "'''\n",
        "\n",
        "\n",
        "# General graphic configs\n",
        "fig.legend(loc=\"upper right\", fontsize=12)  # Add a legend for both plots, increased font size\n",
        "ax1.grid(True, linestyle='--', alpha=0.7)  # Added grid with dashed lines and transparency\n",
        "ax2.grid(True, linestyle='--', alpha=0.7)  # Added grid with dashed lines and transparency\n",
        "plt.title('Model Parameters for each dataset', fontsize=16)  # Added title with increased font size\n",
        "plt.tight_layout()  # Adjust layout to prevent overlapping elements\n",
        "plt.show()\n"
      ]
    },
    {
      "cell_type": "code",
      "execution_count": null,
      "metadata": {
        "id": "9AaL_wyvodg1"
      },
      "outputs": [],
      "source": [
        "one_4_all"
      ]
    },
    {
      "cell_type": "code",
      "execution_count": null,
      "metadata": {
        "id": "XZUHZAH9en_P"
      },
      "outputs": [],
      "source": [
        "import matplotlib.pyplot as plt\n",
        "import numpy as np\n",
        "\n",
        "# Extract the 'b' parameter values and athlete codes\n",
        "b_values = one_4_all['Parameters_b'].to_list()\n",
        "athlete_codes = one_4_all['Athlete_Code'].to_list()\n",
        "\n",
        "num_athletes = len(athlete_codes)\n",
        "num_params = len(b_values[0])  # Assuming all athletes have the same number of 'b' parameters\n",
        "\n",
        "# Create an array to store the parameter values for each position\n",
        "param_positions = [[] for _ in range(num_params)]\n",
        "for athlete_params in b_values:\n",
        "    for i, param_value in enumerate(athlete_params):\n",
        "        param_positions[i].append(param_value)\n",
        "\n",
        "# Create the plot\n",
        "plt.figure(figsize=(10, 6))  # Adjust figure size as needed\n",
        "\n",
        "for i, position_values in enumerate(param_positions):\n",
        "    plt.plot(athlete_codes, position_values, label=f\"Position {i}\")\n",
        "\n",
        "# Customize the plot\n",
        "plt.xlabel(\"Athlete Code\")\n",
        "plt.ylabel(\"Parameter Value\")\n",
        "plt.title(\"B parameter comparison by position\")\n",
        "plt.legend()\n",
        "plt.grid(True)\n",
        "plt.xticks(rotation=45, ha='right')  # Rotate x-axis labels for better readability\n",
        "\n",
        "plt.show()"
      ]
    },
    {
      "cell_type": "code",
      "execution_count": null,
      "metadata": {
        "id": "egiO4OcxjhNj"
      },
      "outputs": [],
      "source": [
        "best_models_df"
      ]
    },
    {
      "cell_type": "code",
      "execution_count": null,
      "metadata": {
        "id": "e5wE-SJuv5Gv"
      },
      "outputs": [],
      "source": [
        "one_4_all"
      ]
    },
    {
      "cell_type": "code",
      "execution_count": null,
      "metadata": {
        "id": "WygaGFPwuAXb"
      },
      "outputs": [],
      "source": [
        "# Biological interpretation\n",
        "\n",
        "#First Order Model\n",
        "##\n",
        "#  Code Here\n",
        "##\n",
        "\n",
        "\n",
        "#Second Order Model\n",
        "##\n",
        "#  Code Here\n",
        "##\n",
        "\n",
        "\n",
        "\n",
        "\n",
        "#Athlete Average Moder\n",
        "#structure: 1:2:0\n",
        "#for p_case in best_models_df.iterrows():\n",
        "counter = 0\n",
        "number_a=1\n",
        "number_b=2\n",
        "d=0\n",
        "athlete_mean_model = pd.DataFrame(columns=['Athlete', 'Parameters_a', 'Parameters_b', 'Rsq_M1', 'AIC_M1', 'Rsq_M2', 'AIC_M2'])\n",
        "\n",
        "for pcase in one_4_all.iterrows():\n",
        "  #print(pcase)\n",
        "\n",
        "  if pcase[1][\"Athlete_Code\"][3] == '1':    #First Game\n",
        "    params_a_memory = pcase[1]['Parameters_a']\n",
        "    params_b_memory = pcase[1]['Parameters_b']\n",
        "    counter += 1\n",
        "\n",
        "  else: #second game\n",
        "    mean_a = (params_a_memory + pcase[1]['Parameters_a']) / 2\n",
        "    mean_b = (params_b_memory + pcase[1]['Parameters_b']) / 2\n",
        "\n",
        "    #Simulation\n",
        "    #Simulation for first Game\n",
        "    y_loader, ysim, parameters_a, parameters_b, SSG, tau, r_squared1, aic1, Rmse1, bic1, fpe1 = model_generator(athlete_list[counter-1], number_a, number_b, d)\n",
        "\n",
        "    ## Simulate values of Y\n",
        "    #Plot Simulation\n",
        "    print(\"Game1:\",r_squared1)\n",
        "    plt.plot(y_loader, label='Real Value (y_loader)', color='blue')\n",
        "    plt.plot(np.arange(len(ysim)), ysim, label='Predicted Mean (ysim)', color='red', linestyle='--')\n",
        "    plt.xlabel('Time / Index')\n",
        "    plt.ylabel('Values')\n",
        "    plt.title('Athlete:{}  Game: 1 '.format(pcase[1]['Athlete_Code'][:2]))\n",
        "    plt.legend()  # Add a legend\n",
        "    plt.grid(True) # Add grid lines for better readability\n",
        "    plt.show()\n",
        "\n",
        "\n",
        "      ##Simulation for Second Game\n",
        "    X_loader, y_loader = dataloader(athlete_list[counter], number_a, number_b, d)\n",
        "    y_loader, ysim, parameters_a, parameters_b, SSG, tau, r_squared2, aic2, Rmse2, bic2, fpe2 = model_generator(athlete_list[counter], number_a, number_b, d)\n",
        "\n",
        "    #Plot Simulation\n",
        "    print(\"Game2:\",r_squared2)\n",
        "    plt.plot(y_loader, label='Real Value (y_loader)', color='green')\n",
        "    plt.plot(np.arange(len(ysim)), ysim, label='Predicted Mean (ysim)', color='orange', linestyle='--')\n",
        "    plt.xlabel('Time / Index')\n",
        "    plt.ylabel('Values')\n",
        "    plt.title('Athlete:{}  Game: 2 '.format(pcase[1]['Athlete_Code'][:2]))\n",
        "    plt.legend()  # Add a legend\n",
        "    plt.grid(True) # Add grid lines for better readability\n",
        "    plt.show()\n",
        "\n",
        "\n",
        "    #Save to the Dataframe\n",
        "    new_row = pd.DataFrame({'Athlete': [pcase[1]['Athlete_Code'][:2]],'Parameters_a':[mean_a], 'Parameters_b':[mean_b], 'Rsq_M1':[r_squared1], 'AIC_M1':[aic1], 'Rsq_M2':[r_squared2], 'AIC_M2':[aic2]})\n",
        "    athlete_mean_model = pd.concat([athlete_mean_model, new_row], ignore_index=True)\n",
        "    plt.show()\n",
        "\n",
        "\n",
        "\n",
        "\n",
        "\n"
      ]
    },
    {
      "cell_type": "code",
      "execution_count": null,
      "metadata": {
        "id": "CqXDiqsduAOX"
      },
      "outputs": [],
      "source": [
        "athlete_mean_model"
      ]
    },
    {
      "cell_type": "markdown",
      "metadata": {
        "id": "0vKA71DLMxW_"
      },
      "source": [
        " # Time-varying dynamics"
      ]
    },
    {
      "cell_type": "code",
      "execution_count": null,
      "metadata": {
        "id": "AxpqXxv8PLg3"
      },
      "outputs": [],
      "source": [
        "na = 2\n",
        "nb = 1\n",
        "d = 1\n",
        "\n",
        "#INCORPORATE ASSIGNMENT DATA\n",
        "X_loader, y_loader = dataloader(athlete_list[1], na, nb, d)\n",
        "N = len(y_loader)\n",
        "y = y_loader#.values.reshape(-1,1)\n",
        "u = X_loader['u-{}'.format(d)].values.reshape(-1,1)\n",
        "\n",
        "N = len(y_loader)\n",
        "t = np.arange(N)                                        # example for 'time'/points 0-(N-1)\n",
        "f = 2 * np.pi / 40                                      # f = chosen frequence for square wave\n",
        "\n",
        "\n",
        "e = np.random.randn(N, 1) * np.sqrt(0.16)               # Noise vector e-N(0,0.16), 'standard normal distribution'is mean 0, standard deviation 1.\n",
        "a1 = np.ones((N,1)) * -1                                # a1 = constant\n",
        "a2 = np.ones((N,1)) * 0.25                              # a2 = constant (if you have a2 means it is second order system)\n",
        "b0 = np.ones((N,1))\n",
        "b0[200:899] = 2                                         # b0 = variable\n",
        "# delay = 1\n",
        "\n",
        "\n",
        "y = np.zeros((N,1))                                     # start with an empty vector for y\n",
        "for k in range(max(na, nb+d-1), N):\n",
        "    y[k] = -a1[k] * y[k-1] - a2[k] * y[k-2] + b0[k] * u[k-d] + e[k]  # if we have a2 means it is a second order system.\n",
        "\n",
        "plt.plot(u)\n",
        "plt.show()\n",
        "plt.plot(y)"
      ]
    },
    {
      "cell_type": "code",
      "execution_count": null,
      "metadata": {
        "id": "p3X6UFltuAAD"
      },
      "outputs": [],
      "source": [
        "# Time-variant - recursive ARX\n",
        "\n",
        "dm = 3                              # Number of parameters to estimate\n",
        "# Initialise matrix\n",
        "X = np.zeros((dm,1))              # prepare an input matrix that can be used in the loop, size is the number of parameters\n",
        "P = 1000 * np.eye(dm)            # Covariance matrix set to large value because of uncertainty at the beginning due to lack of measurement\n",
        "a_hat = np.ones((dm,1))         # Minimum value to not create error in case of 0 division\n",
        "\n",
        "\n",
        "# Information to be stored in the loop\n",
        "a1est = np.zeros((N,1))\n",
        "a2est = np.zeros((N,1))\n",
        "b0est = np.zeros((N,1))\n",
        "\n",
        "\n",
        "# Loop over all the data\n",
        "for k in range(max(na, nb+d-1), N):\n",
        "    # 1. Update the matrix X with the new data\n",
        "    X[0] = - y[k-1]\n",
        "    X[1] = - y[k-2]\n",
        "    X[2] = u[k-d]\n",
        "\n",
        "    # 2. Update gain matrix g\n",
        "    g = (P @ X) / (1 +( X.T @ P @ X))\n",
        "\n",
        "    # 3. Update covariance matrix P\n",
        "    P = P - g @ X.T @ P\n",
        "\n",
        "    # 4. Re-estimate the parameter coefficients\n",
        "    yhat =  X.T @ a_hat      # y = data vector * parameters vetor\n",
        "    error = y[k] - yhat\n",
        "    a_hat = a_hat + g * error\n",
        "    # OR: a_hat = a_hat + g * ( y(k) - (X' * a_hat))\n",
        "\n",
        "    # 5. Store estimates (get the diagonal elements of a_hat that correspond to a1, a2, b0)\n",
        "    a1est[k] = a_hat[0]\n",
        "    a2est[k] = a_hat[1]\n",
        "    b0est[k] = a_hat[2]\n",
        "\n",
        "# Simulate model (step 2)\n",
        "ysim2 = np.zeros((N,1))\n",
        "for k in range(max(na, nb+d-1), N):\n",
        "    ysim2[k] = - a1est[k] * ysim2[k-1] - a2est[k] * ysim2[k-2] + b0est[k] * u[k-d]\n",
        "\n",
        "plt.plot(a1est)\n",
        "plt.plot(a2est)\n",
        "plt.plot(b0est)\n",
        "\n",
        "plt.plot(a1)\n",
        "plt.plot(a2)\n",
        "plt.plot(b0)\n",
        "plt.legend()\n",
        "plt.show()\n",
        "\n",
        "plt.plot(y)\n",
        "plt.plot(ysim2)\n",
        "\n",
        "print('R2:',r_2(y, ysim2))\n"
      ]
    },
    {
      "cell_type": "code",
      "execution_count": null,
      "metadata": {
        "id": "ixqHSSJCMwzb"
      },
      "outputs": [],
      "source": [
        "#Time-variant - recursive ARX RDW (rectancular data weighing)\n",
        "Win = 500;                  # window size\n",
        "# Initialise matrix\n",
        "X_add = np.zeros((dm,1))\n",
        "X_remove = np.zeros((dm,1))\n",
        "P = 1000 * np.eye(dm)             # Covariance matrix set to large value because of uncertainty at the beginning due to lack of measurement\n",
        "A_hat = np.ones((dm,1))           # Minimum value to don't create error in case of 0 division\n",
        "# Information to be stored in the loop\n",
        "a1est = np.zeros((N,1))\n",
        "a2est = np.zeros((N,1))\n",
        "b0est = np.zeros((N,1))\n",
        "\n",
        "for k in range(max(na, nb+d-1), N):\n",
        "    # 1. Update the matrix X with the new data\n",
        "    X_add[0] = -y[k-1]\n",
        "    X_add[1] = -y[k-2]\n",
        "    X_add[2] = u[k-1]\n",
        "\n",
        "    # 2. Update gain matrix\n",
        "    g = P @ X_add / (1 + X_add.T @ P @ X_add)  # inverse of matrix is 'devision'\n",
        "\n",
        "    # 3. Update covariance matrix P\n",
        "    P = P - g @ X_add.T @ P\n",
        "\n",
        "    # 4. Re-estimate the parameter coefficients based on the new data\n",
        "    yhat = X_add.T @ A_hat\n",
        "    error = y[k] - yhat\n",
        "    A_hat = A_hat + g * error\n",
        "\n",
        "    # 5 Remove effect of old data every data at (k-s)th instant\n",
        "    if k - Win - max(nb + d - 1, na) > 0:\n",
        "        # 5.a Update the matrix X(k-s) with the new data\n",
        "        X_remove[0] = -y[k - Win - 1] #a1\n",
        "        X_remove[1] = -y[k - Win - 2] #a2\n",
        "        X_remove[2] = u[k - Win - d] #b0\n",
        "        # 5.b Update gain matrix\n",
        "        g = -P @ X_remove / (1 + X_remove.T @ P @ X_remove)\n",
        "        # 5.c Update covariance matrix P\n",
        "        P = (P - g @ X_remove.T @ P)\n",
        "        # 5.d Re-estimate the parameter coefficients based on the new data\n",
        "        yhat = X_remove.T @ A_hat\n",
        "        error = y[k - Win] - yhat\n",
        "        A_hat = A_hat + g * error\n",
        "\n",
        "    a1est[k] = A_hat[0]\n",
        "    a2est[k] = A_hat[1]\n",
        "    b0est[k] = A_hat[2]\n",
        "\n",
        "# Simulate model (step 3)\n",
        "ysim3 = np.zeros((N,1))\n",
        "for k in range(max(na, nb+d-1), N):\n",
        "    ysim3[k] = -a1est[k] * ysim3[k-1] - a2est[k] * ysim3[k-2] + b0est[k] * u[k-d]\n",
        "\n",
        "\n",
        "plt.plot(a1est)\n",
        "plt.plot(a2est)\n",
        "plt.plot(b0est)\n",
        "plt.plot(a1)\n",
        "plt.plot(a2)\n",
        "plt.plot(b0)\n",
        "plt.show()\n",
        "plt.plot(y)\n",
        "plt.plot(ysim3)\n",
        "\n",
        "print('R2:',r_2(y, ysim3))\n",
        "\n",
        "\n"
      ]
    },
    {
      "cell_type": "code",
      "execution_count": null,
      "metadata": {
        "id": "nHd03dnOMwpX"
      },
      "outputs": [],
      "source": [
        "#Step 4 - Time-varying recursive ARX with EWP (exponentially weighted past)\n",
        "Alpha = 0.985\n",
        "\n",
        "# Initialise matrix\n",
        "X = np.zeros((dm,1))\n",
        "P = 1000 * np.eye(dm)             # Covariance matrix set to large value because of uncertainty at the beginning due to lack of measurement\n",
        "a_hat = np.ones((dm,1))       # Minimum value to don't create error in case of 0 division\n",
        "# Information to be stored in the loop\n",
        "a1est = np.zeros((N,1))\n",
        "a2est = np.zeros((N,1))\n",
        "b0est = np.zeros((N,1))\n",
        "\n",
        "#Loop over all the data\n",
        "for k in range(max(na, nb+d-1), N):\n",
        "\n",
        "    # 1. Update the matrix X with the new data\n",
        "    X[0] = -y[k-1]\n",
        "    X[1] = -y[k-2]\n",
        "    X[2] = u[k-d]\n",
        "\n",
        "    # 2. Update gain matrix\n",
        "    g = P @ X / (Alpha + X.T @ P @ X)\n",
        "\n",
        "    # 3. Update covariance matrix P\n",
        "    P = (P - g @ X.T @ P) / Alpha\n",
        "\n",
        "    # 4. Re-estimate the parameter coefficients based on the new data\n",
        "    yhat = X.T @ a_hat\n",
        "    error = y[k] - yhat\n",
        "    a_hat = a_hat + g * error\n",
        "\n",
        "    a1est[k] = a_hat[0]\n",
        "    a2est[k] = a_hat[1]\n",
        "    b0est[k] = a_hat[2]\n",
        "\n",
        "\n",
        "# Simulate model\n",
        "ysim4 = np.zeros((N,1))\n",
        "\n",
        "for k in range(max(na, nb+d-1), N):\n",
        "    ysim4[k] = -a1est[k] * ysim4[k-1] - a2est[k] * ysim4[k-2] + b0est[k] * u[k-d]\n",
        "\n",
        "plt.plot(a1est)\n",
        "plt.plot(a2est)\n",
        "plt.plot(b0est)\n",
        "\n",
        "plt.plot(a1)\n",
        "plt.plot(a2)\n",
        "plt.plot(b0)\n",
        "plt.show()\n",
        "plt.plot(y)\n",
        "plt.plot(ysim4)\n",
        "\n",
        "print('R2:',r_2(y, ysim4))\n"
      ]
    },
    {
      "cell_type": "code",
      "execution_count": null,
      "metadata": {
        "id": "gawg1bDJbh30"
      },
      "outputs": [],
      "source": [
        "#2ºSystem Identification\n",
        "def calcmodel(data, na, nb, d):\n",
        "    # Load the associated data using dataloader(data, na, nb, d)\n",
        "\n",
        "    X_loader, y_loader = dataloader(data, na, nb, d)\n",
        "\n",
        "\n",
        "    # Estimate the a and b parameters vector [a0...an, b0...bm].T by the formula inv(X.T dot X) dot X.T dot y\n",
        "    params = np.linalg.inv(X_loader.T @ X_loader) @ X_loader.T @ y_loader\n",
        "    #params = np.linalg.solve(X_loader.T, X_loader) @ X_loader.T @ y_loader\n",
        "    params = params.values\n",
        "\n",
        "\n",
        "    parameters_a = params[:na]\n",
        "    parameters_b = params[na:]\n",
        "\n",
        "\n",
        "    # Optional: Calculate the predicted values of Y via Matrix-Vector multiplication (this is for prediction, not simulation)\n",
        "    Y_pred = np.dot(X_loader, params)\n",
        "\n",
        "\n",
        "    #Calculate a simulation using the predicted parameters use the following structure:\n",
        "    ysim = np.zeros((len(X_loader)+1,1))  # the plus one is because the first value is initialized and not simulated\n",
        "\n",
        "    ysim[0] = y_loader.values[0]    # initialize the first value\n",
        "    max_lag = max(na, nb + d)  # Maximum lag across both endogenous and exogenous variables\n",
        "\n",
        "    for k in range(max_lag, len(X_loader)):\n",
        "        #Add the contribution from autoregressive terms (endogenous variables)\n",
        "        for i_a in range(1, na + 1):\n",
        "            #ysim[k] += parameters_a[i_a - 1] * ysim[k - i_a]\n",
        "            ysim[k] += parameters_a[i_a - 1] * X_loader.iloc[k, i_a]\n",
        "\n",
        "        #Add the contribution from exogenous input ter\\ms (with delay d)\n",
        "        for j_b in range(1, nb + 1):\n",
        "            #ysim[k] += estimation[i_a - 1] * ysim[k - i_a - X_loader['u-{}'.format(d)]]                    #to get the column at delay u-d use this syntax X_loader['u-{}'.format(d)]\n",
        "            ysim[k] += parameters_b[j_b-1] * X_loader['u-{}'.format(d)].iloc[k-j_b]\n",
        "\n",
        "\n",
        "    # Calculate r-squared\n",
        "    y_loader = y_loader.values.reshape(-1,1)\n",
        "    SS_res = np.sum((y_loader - ysim[1:]) ** 2)  # Residual sum of squares\n",
        "    SS_tot = np.sum((y_loader - np.mean(y_loader)) ** 2)  # Total sum of squares\n",
        "    rsq = 1 - (SS_res / SS_tot)\n",
        "    #print(\"ss_red:\",SS_res,\"ss_tot\",SS_tot,\"RSQ:\",rsq)\n",
        "\n",
        "\n",
        "    # Calculate AIC\n",
        "    n = len(y_loader)  # Number of observations\n",
        "    # Number of parameters (including intercept)\n",
        "    aic =  2 * (na + nb) + len(y_loader) * np.log(1 - rsq) # Evaluates the complexicity of the Model\n",
        "\n",
        "\n",
        "    return Y_pred, ysim, params, rsq, aic\n",
        "\n",
        "\n",
        "\n",
        "\n",
        "# print(calcmodel(data,0,1,0))\n",
        "# print(calcmodel(data,1,0,0))\n"
      ]
    },
    {
      "cell_type": "code",
      "execution_count": null,
      "metadata": {
        "id": "4Qyw8n619eHv"
      },
      "outputs": [],
      "source": [
        "pds = pd.DataFrame(columns=[\"Athlete\", \"na\", \"nb\", \"d\", \"Params\", \"RSQ\", \"AIC\"])\n",
        "\n",
        "# Parameter ranges\n",
        "na_max = nb_max = xdelay_max = 3\n",
        "\n",
        "for i in range(len(athlete_list)):\n",
        "    print(f\"Athlete: {code_name[i]}\")\n"
      ]
    },
    {
      "cell_type": "code",
      "execution_count": null,
      "metadata": {
        "id": "DtT6fYiBX7Y2"
      },
      "outputs": [],
      "source": [
        "pds"
      ]
    },
    {
      "cell_type": "code",
      "execution_count": null,
      "metadata": {
        "id": "xdcs5P2SzRy4"
      },
      "outputs": [],
      "source": [
        "# Initialize an empty DataFrame to store results\n",
        "pds = pd.DataFrame(columns=[\"Athlete\", \"na\", \"nb\", \"d\", \"Params\", \"RSQ\", \"AIC\"])\n",
        "\n",
        "# Parameter ranges\n",
        "na_max = nb_max = xdelay_max = 3\n",
        "# Iterate over each athlete\n",
        "for i in range(len(athlete_list)):\n",
        "    print(f\"Athlete: {code_name[i]}\")\n",
        "    athlete = athlete_list[i]\n",
        "    # Iterate over possible values of na, nb, and d\n",
        "    for na in range(1,na_max+1):\n",
        "      for nb in range(1,nb_max+1):\n",
        "        for d in range(1,xdelay_max+1):\n",
        "              # Calculate model with specified parameters\n",
        "              Y_pred, ysim, params, rsq, aic = calcmodel(athlete, na=na, nb=nb, d=d)\n",
        "\n",
        "\n",
        "              # Add the result as a new row to the DataFrame\n",
        "              pds = pd.concat([pds, pd.DataFrame({\n",
        "                  \"Athlete\": f\"{code_name[i]}\",\n",
        "                  \"na\": [na],\n",
        "                  \"nb\": [nb],\n",
        "                  \"d\": [d],\n",
        "                  \"Params\": [params],\n",
        "                  \"RSQ\": [rsq],\n",
        "                  \"AIC\": [aic]\n",
        "              })], ignore_index=True)\n",
        "\n",
        "# Display final DataFrame with all results\n",
        "#print(pds)\n",
        "\n",
        "\n",
        "#Logs\n",
        "'''\n",
        "Run   Time\n",
        "1     24:23       #First version(5)\n",
        "2     24:23          #Add to dataframe(5)\n",
        "3     25:xx        #No Idea(5)\n",
        "4     5:xx         #Normal(3)\n",
        "'''"
      ]
    },
    {
      "cell_type": "code",
      "execution_count": null,
      "metadata": {
        "id": "hrdDubCR9UI2"
      },
      "outputs": [],
      "source": [
        "\n",
        "A1M1 = pds[pds['Athlete'] == \"A4M1\"]\n",
        "percentile_75_1 = A1M1['AIC'].quantile(0.9)\n",
        "percentile_75_2 = np.percentile(A1M1['AIC'],90)\n",
        "#print(percentile_75_1, percentile_75_2)\n",
        "#A1M1 = A1M1[A1M1['RSQ'] >= percentile_75]\n",
        "#print(A1M1)\n",
        "\n",
        "percentile_95 = A1M1['RSQ'].quantile(0.75)\n",
        "fig, ax1 = plt.subplots()\n",
        "plt.figure(figsize=(10, 6))\n",
        "ax1.plot(A1M1[\"RSQ\"])\n",
        "ax1.set_xlabel('Model')\n",
        "ax1.set_ylabel('RSQ')\n",
        "ax2 = ax1.twinx()\n",
        "ax2.plot(A1M1[\"AIC\"], color='red')\n",
        "ax2.set_ylabel('AIC', color='red')\n",
        "ax1.legend(['RSQ'], loc='upper left')\n",
        "ax2.legend(['AIC'], loc='upper right')\n",
        "plt.show()\n",
        "#pds\n",
        "#Logs\n",
        "'''\n",
        "Total: 1500 Models\n",
        "'''\n",
        "A1M1[['na', 'nb','d','RSQ','AIC']][0:]"
      ]
    },
    {
      "cell_type": "code",
      "execution_count": null,
      "metadata": {
        "id": "BF4AI2C-bl9E"
      },
      "outputs": [],
      "source": [
        "#3 Biological interpretation"
      ]
    },
    {
      "cell_type": "markdown",
      "metadata": {
        "id": "pIv83bHeUDte"
      },
      "source": [
        "# 2º Practical assignment"
      ]
    },
    {
      "cell_type": "code",
      "execution_count": null,
      "metadata": {
        "id": "5-UZ6lsg-wLO"
      },
      "outputs": [],
      "source": [
        "# uploaded = files.upload()"
      ]
    },
    {
      "cell_type": "code",
      "source": [
        "os.chdir(datafolder_part2)\n"
      ],
      "metadata": {
        "id": "dA03ANrwj2nD"
      },
      "execution_count": null,
      "outputs": []
    },
    {
      "cell_type": "code",
      "execution_count": null,
      "metadata": {
        "id": "4GssVKDX5oD3"
      },
      "outputs": [],
      "source": [
        "M_334_df = pd.DataFrame()\n",
        "M_343_df = pd.DataFrame()\n",
        "WT_df = pd.DataFrame()\n",
        "Unknown_df = pd.DataFrame()\n",
        "\n",
        "# Mutant 334\n",
        "for i in range(1,7):\n",
        "  load_input = pd.read_csv('Mutation334_C{}_In.csv'.format(i), names=['u_C{}'.format(i)])\n",
        "  load_output = pd.read_csv('Mutation334_C{}_Out.csv'.format(i), names=['y_C{}'.format(i)])\n",
        "  M_334_df = pd.concat([M_334_df, load_input, load_output], axis=1)\n",
        "\n",
        "# Mutant 343\n",
        "for i in range(1,7):\n",
        "  load_input = pd.read_csv('Mutation343_C{}_In.csv'.format(i), names=['u_C{}'.format(i)])\n",
        "  load_output = pd.read_csv('Mutation343_C{}_Out.csv'.format(i), names=['y_C{}'.format(i)])\n",
        "  M_343_df = pd.concat([M_343_df, load_input, load_output], axis=1)\n",
        "\n",
        "# WildType\n",
        "for i in range(1,7):\n",
        "  load_input = pd.read_csv('WildType_C{}_In.csv'.format(i), names=['u_C{}'.format(i)])\n",
        "  load_output = pd.read_csv('WildType_C{}_Out.csv'.format(i), names=['y_C{}'.format(i)])\n",
        "  WT_df = pd.concat([WT_df, load_input, load_output], axis=1)\n",
        "\n",
        "\n",
        "# WildType\n",
        "for i in range(1,3):\n",
        "  load_input = pd.read_csv('Unknown_C{}_In.csv'.format(i), names=['u_C{}'.format(i)])\n",
        "  load_output = pd.read_csv('Unknown_C{}_Out.csv'.format(i), names=['y_C{}'.format(i)])\n",
        "  Unknown_df = pd.concat([Unknown_df, load_input, load_output], axis=1)"
      ]
    },
    {
      "cell_type": "code",
      "execution_count": null,
      "metadata": {
        "id": "GCANDp6E-wIh"
      },
      "outputs": [],
      "source": [
        "# Mutant 334\n",
        "\n",
        "M334_C1_In_df = pd.read_csv('Mutation334_C1_In.csv', names=['u'])\n",
        "M334_C2_In_df = pd.read_csv('Mutation334_C2_In.csv', names=['u'])\n",
        "M334_C3_In_df = pd.read_csv('Mutation334_C3_In.csv', names=['u'])\n",
        "M334_C4_In_df = pd.read_csv('Mutation334_C4_In.csv', names=['u'])\n",
        "M334_C5_In_df = pd.read_csv('Mutation334_C5_In.csv', names=['u'])\n",
        "M334_C6_In_df = pd.read_csv('Mutation334_C6_In.csv', names=['u'])\n",
        "\n",
        "M334_C1_Out_df = pd.read_csv('Mutation334_C1_Out.csv', names=['y'])\n",
        "M334_C2_Out_df = pd.read_csv('Mutation334_C2_Out.csv', names=['y'])\n",
        "M334_C3_Out_df = pd.read_csv('Mutation334_C3_Out.csv', names=['y'])\n",
        "M334_C4_Out_df = pd.read_csv('Mutation334_C4_Out.csv', names=['y'])\n",
        "M334_C5_Out_df = pd.read_csv('Mutation334_C5_Out.csv', names=['y'])\n",
        "M334_C6_Out_df = pd.read_csv('Mutation334_C6_Out.csv', names=['y'])\n",
        "\n",
        "Mutant_334_list = [M334_C1_In_df,\n",
        "M334_C2_In_df,\n",
        "M334_C3_In_df,\n",
        "M334_C4_In_df,\n",
        "M334_C5_In_df,\n",
        "M334_C6_In_df,\n",
        "M334_C1_Out_df,\n",
        "M334_C2_Out_df,\n",
        "M334_C3_Out_df,\n",
        "M334_C4_Out_df,\n",
        "M334_C5_Out_df,\n",
        "M334_C6_Out_df] #12\n",
        "\n",
        "# Mutant 343\n",
        "\n",
        "M343_C1_In_df = pd.read_csv('Mutation343_C1_In.csv', names=['u'])\n",
        "M343_C2_In_df = pd.read_csv('Mutation343_C2_In.csv', names=['u'])\n",
        "M343_C3_In_df = pd.read_csv('Mutation343_C3_In.csv', names=['u'])\n",
        "M343_C4_In_df = pd.read_csv('Mutation343_C4_In.csv', names=['u'])\n",
        "M343_C5_In_df = pd.read_csv('Mutation343_C5_In.csv', names=['u'])\n",
        "M343_C6_In_df = pd.read_csv('Mutation343_C6_In.csv', names=['u'])\n",
        "\n",
        "M343_C1_Out_df = pd.read_csv('Mutation343_C1_Out.csv', names=['y'])\n",
        "M343_C2_Out_df = pd.read_csv('Mutation343_C2_Out.csv', names=['y'])\n",
        "M343_C3_Out_df = pd.read_csv('Mutation343_C3_Out.csv', names=['y'])\n",
        "M343_C4_Out_df = pd.read_csv('Mutation343_C4_Out.csv', names=['y'])\n",
        "M343_C5_Out_df = pd.read_csv('Mutation343_C5_Out.csv', names=['y'])\n",
        "M343_C6_Out_df = pd.read_csv('Mutation343_C6_Out.csv', names=['y'])\n",
        "\n",
        "Mutant_343_list = [M343_C1_In_df,\n",
        "M343_C2_In_df,\n",
        "M343_C3_In_df,\n",
        "M343_C4_In_df,\n",
        "M343_C5_In_df,\n",
        "M343_C6_In_df,\n",
        "M343_C1_Out_df,\n",
        "M343_C2_Out_df,\n",
        "M343_C3_Out_df,\n",
        "M343_C4_Out_df,\n",
        "M343_C5_Out_df,\n",
        "M343_C6_Out_df] #12\n",
        "\n",
        "# WildType\n",
        "\n",
        "WildType_C1_In_df = pd.read_csv('WildType_C1_In.csv', names=['u'])\n",
        "WildType_C2_In_df = pd.read_csv('WildType_C2_In.csv', names=['u'])\n",
        "WildType_C3_In_df = pd.read_csv('WildType_C3_In.csv', names=['u'])\n",
        "WildType_C4_In_df = pd.read_csv('WildType_C4_In.csv', names=['u'])\n",
        "WildType_C5_In_df = pd.read_csv('WildType_C5_In.csv', names=['u'])\n",
        "WildType_C6_In_df = pd.read_csv('WildType_C6_In.csv', names=['u'])\n",
        "\n",
        "WildType_C1_Out_df = pd.read_csv('WildType_C1_Out.csv', names=['y'])\n",
        "WildType_C2_Out_df = pd.read_csv('WildType_C2_Out.csv', names=['y'])\n",
        "WildType_C3_Out_df = pd.read_csv('WildType_C3_Out.csv', names=['y'])\n",
        "WildType_C4_Out_df = pd.read_csv('WildType_C4_Out.csv', names=['y'])\n",
        "WildType_C5_Out_df = pd.read_csv('WildType_C5_Out.csv', names=['y'])\n",
        "WildType_C6_Out_df = pd.read_csv('WildType_C6_Out.csv', names=['y'])\n",
        "\n",
        "WildType_list = [WildType_C1_In_df,\n",
        "WildType_C2_In_df,\n",
        "WildType_C3_In_df,\n",
        "WildType_C4_In_df,\n",
        "WildType_C5_In_df,\n",
        "WildType_C6_In_df,\n",
        "WildType_C1_Out_df,\n",
        "WildType_C2_Out_df,\n",
        "WildType_C3_Out_df,\n",
        "WildType_C4_Out_df,\n",
        "WildType_C5_Out_df,\n",
        "WildType_C6_Out_df] #12\n",
        "\n",
        "# Unknown\n",
        "\n",
        "Unknown_C1_In_df = pd.read_csv('Unknown_C1_In.csv', names=['u'])\n",
        "Unknown_C2_In_df = pd.read_csv('Unknown_C2_In.csv', names=['u'])\n",
        "\n",
        "Unknown_C1_Out_df = pd.read_csv('Unknown_C1_Out.csv', names=['y'])\n",
        "Unknown_C2_Out_df = pd.read_csv('Unknown_C2_Out.csv', names=['y'])\n",
        "\n",
        "UnknownType_list = [Unknown_C1_In_df,\n",
        "Unknown_C2_In_df,\n",
        "Unknown_C1_Out_df,\n",
        "Unknown_C2_Out_df] #4\n"
      ]
    },
    {
      "cell_type": "code",
      "execution_count": null,
      "metadata": {
        "id": "R9OgW-gt5bcQ"
      },
      "outputs": [],
      "source": [
        "M_334_df[118:122]"
      ]
    },
    {
      "cell_type": "code",
      "execution_count": null,
      "metadata": {
        "id": "ZO6HLics5xSx"
      },
      "outputs": [],
      "source": [
        "for variation in [M_334_df, M_343_df, WT_df, Unknown_df]:\n",
        "  for i in range(0,len(variation.columns),2):\n",
        "    input = variation.columns[i]\n",
        "    output = variation.columns[i+1]\n",
        "    print(input, output)\n",
        "    data = pd.concat([variation[input], variation[output]], axis=1)\n",
        "    data2 = variation[[input, output]].copy()\n",
        "    if (data.values == data2.values).all():\n",
        "      print('Inputs are all the Equal!')\n",
        "\n",
        "data2"
      ]
    },
    {
      "cell_type": "code",
      "execution_count": null,
      "metadata": {
        "id": "oRji0kglnE1u"
      },
      "outputs": [],
      "source": [
        "for variation in [M_334_df, M_343_df, WT_df]:\n",
        "  i= 0\n",
        "  if variation.iloc[:, i].all() == variation.iloc[:, i+2].all() == variation.iloc[:, i+4].all() == variation.iloc[:, i+6].all() == variation.iloc[:, i+8].all() == variation.iloc[:, i+10].all():\n",
        "      print('Inputs are all the Equal!')\n",
        "\n",
        "\n",
        "\n",
        "for variation in [M_334_df, M_343_df, WT_df, Unknown_df]:\n",
        "  counter = 1\n",
        "  #input = variation.iloc[119:, 0] # Access column by index using iloc\n",
        "  #plt.plot(input, label='Input'.format(counter))\n",
        "  input = variation.iloc[119:, 0] # Access column by index using iloc\n",
        "  plt.plot(input, label='Input'.format(counter))\n",
        "  for i in range(0,len(variation.columns),2): #0,2,..8,10 (6X)\n",
        "    #variation.iloc[:, i] = variation.iloc[:, i] - variation.iloc[:, i].min()\n",
        "    #variation.iloc[:, i] = variation.iloc[:, i] - variation.iloc[:, i].mean()\n",
        "    #variation.iloc[:, i] = variation.iloc[:, i] / variation.iloc[:, i].std()\n",
        "\n",
        "    output = variation.iloc[119:, i+1] # Access next column for output\n",
        "\n",
        "\n",
        "\n",
        "    plt.plot(output, label='Output C{}'.format(counter))\n",
        "    plt.legend()\n",
        "    counter += 1\n",
        "  plt.show()\n",
        "\n",
        "\n",
        "\n"
      ]
    },
    {
      "cell_type": "code",
      "execution_count": null,
      "metadata": {
        "id": "ns6fypdR2X-C"
      },
      "outputs": [],
      "source": [
        "#1ºData Preparation\n",
        "#Pre-processing && Ploting\n",
        "for lists in [Mutant_334_list,Mutant_343_list,WildType_list,UnknownType_list]:\n",
        "  pds = pd.DataFrame(columns=['Input','Output'])\n",
        "\n",
        "\n",
        "#Remove the first 119 values (0 or 1) for all the datasets and reset the index for 0\n",
        "all_datasets_df = [df.iloc[119:].reset_index(drop=True) for df in [M_334_df, M_343_df, WT_df, Unknown_df]]\n"
      ]
    },
    {
      "cell_type": "markdown",
      "metadata": {
        "id": "sgQvGYPM8E0x"
      },
      "source": [
        "# 2. System identification"
      ]
    },
    {
      "cell_type": "code",
      "execution_count": null,
      "metadata": {
        "id": "Y1-lbwK--3WC"
      },
      "outputs": [],
      "source": [
        "data = [M_334_df, M_343_df, WT_df, Unknown_df][i]\n",
        "data"
      ]
    },
    {
      "cell_type": "code",
      "execution_count": null,
      "metadata": {
        "id": "gRH1DdCM2X5b"
      },
      "outputs": [],
      "source": [
        "na_max = nb_max = xdelay_max = 4\n",
        "model_count=0\n",
        "code_name = [\"M_334\",\"M_343\",\"WT\",\"Unknown\"]\n",
        "all_datasets_df = [df.iloc[119:].reset_index(drop=True) for df in [M_334_df, M_343_df, WT_df, Unknown_df]]\n",
        "\n",
        "final_results_df = pd.DataFrame(columns=['Athlete_Code','Model_Index','na','nb','d','AIC','Rsq','RMSE','BIC','FPE','Parameters_a','Parameters_b'])\n",
        "\n",
        "##Loop through parameters\n",
        "#Starts 1:1:0 .... 3,3,3               (1,na_max|1,nb_max|xdelay_max) (max=4)\n",
        "#Starts 1:1:0 .... 4,4,4               (1,na_max+1|1,nb_max+1|xdelay_max+1)(max=4)\n",
        "#Starts 0:1:0 .... 3,4,4               (na_max|1,nb_max+1|xdelay_max+1)(max=4)\n",
        "counter = nm_count = 0\n",
        "for variation in [M_334_df, M_343_df, WT_df, Unknown_df]:\n",
        "\n",
        "  for i in range(0,len(variation.columns),2):\n",
        "    input = variation.columns[i]\n",
        "    output = variation.columns[i+1]\n",
        "    data = pd.concat([variation[input].rename(\"u\"), variation[output].rename(\"y\")], axis=1)\n",
        "    model_counter = 0\n",
        "\n",
        "    for na in range(na_max):\n",
        "      for nb in range(1,nb_max+1):\n",
        "        for d in range(xdelay_max+1):\n",
        "          #print(data)\n",
        "          #Calculate Model\n",
        "          y_loader, ysim, parameters_a, parameters_b, SSG, tau, r_squared, aic, Rmse, bic, fpe = model_generator(data, na, nb, d)\n",
        "\n",
        "          #Save Results\n",
        "          new_row = pd.DataFrame({'Athlete_Code': code_name[nm_count-1],'Model_Index': [model_counter], 'na': [na], 'nb': [nb], 'd': [d], 'AIC': [aic], 'Rsq': [r_squared],'RMSE':[Rmse], 'BIC':[bic],'FPE':[fpe], 'Parameters_a':[parameters_a], 'Parameters_b':[parameters_b]})\n",
        "          final_results_df = pd.concat([final_results_df, new_row], ignore_index=True)\n",
        "\n",
        "\n",
        "          model_counter += 1\n",
        "  nm_count += 1\n",
        "\n",
        "\n",
        "\n",
        "\n"
      ]
    },
    {
      "cell_type": "code",
      "execution_count": null,
      "metadata": {
        "id": "fhMBst-F2X2P"
      },
      "outputs": [],
      "source": [
        "#Plot for each player/game\n",
        "fig, ax1 = plt.subplots(figsize=(20, 6))\n",
        "X_axis = np.arange(len(final_results_df)) #results_df['Model_Index']\n",
        "\n",
        "#For R-square Error\n",
        "ax1.plot(X_axis, final_results_df['Rsq'], color='blue', label='R-squared')\n",
        "ax1.set_xlabel('Model Index', fontsize=14)  # Increased font size\n",
        "ax1.set_ylabel('R-squared', color='blue', fontsize=14)  # Increased font size\n",
        "ax1.tick_params(axis='y', labelcolor='blue', labelsize=12)  # Increased tick label size\n",
        "\n",
        "#For AIC\n",
        "ax2 = ax1.twinx()  # instantiate a second axes that shares the same x-axis\n",
        "ax2.plot(X_axis, final_results_df['AIC'], color='red', label='AIC')\n",
        "ax2.set_ylabel('AIC', color='red', fontsize=14)  # Increased font size\n",
        "ax2.tick_params(axis='y', labelcolor='red', labelsize=12)  # Increased tick label size\n",
        "\n",
        "#For RMSE\n",
        "ax3 = ax1.twinx()\n",
        "ax3.plot(X_axis, final_results_df['RMSE'], color='green', label='RMSE', linestyle='--')\n",
        "ax3.set_ylabel('RMSE', color='green', fontsize=14)\n",
        "ax3.tick_params(axis='y', labelcolor='green', labelsize=12)\n",
        "\n",
        "#For FPE\n",
        "ax4 = ax1.twinx()\n",
        "ax4.plot(X_axis, final_results_df['FPE'], color='purple', label='FPE', linestyle=':')\n",
        "ax4.set_ylabel('RMSE', color='purple', fontsize=14)\n",
        "ax4.tick_params(axis='y', labelcolor='purple', labelsize=12)\n",
        "\n",
        "#For BIC\n",
        "ax5 = ax4.twinx()\n",
        "ax5.plot(X_axis, final_results_df['BIC'], color='orange', label='BIC', linestyle='-.')\n",
        "ax5.set_ylabel('BIC', color='orange', fontsize=14)\n",
        "ax5.tick_params(axis='y', labelcolor='orange', labelsize=12)\n",
        "\n",
        "# General graphic configs\n",
        "fig.legend(loc=\"upper right\", fontsize=12)  # Add a legend for both plots, increased font size\n",
        "ax1.grid(True, linestyle='--', alpha=0.7)  # Added grid with dashed lines and transparency\n",
        "ax2.grid(True, linestyle='--', alpha=0.7)  # Added grid with dashed lines and transparency\n",
        "plt.title('Model Evaluation Metrics vs. Model Index', fontsize=16)  # Added title with increased font size\n",
        "plt.tight_layout()  # Adjust layout to prevent overlapping elements\n",
        "plt.show()"
      ]
    },
    {
      "cell_type": "code",
      "execution_count": null,
      "metadata": {
        "id": "5CANtWm72Xyw"
      },
      "outputs": [],
      "source": [
        "final_results_df.sort_values(by='Rsq', ascending=False)"
      ]
    },
    {
      "cell_type": "code",
      "execution_count": null,
      "metadata": {
        "id": "gDmvhIjK2XvD"
      },
      "outputs": [],
      "source": [
        "#Select Best Models\n",
        "scaler = MinMaxScaler()\n",
        "normalized_metrics = scaler.fit_transform(final_results_df[['AIC', 'Rsq', 'FPE', 'BIC', 'RMSE']])\n",
        "# Create a new DataFrame with the normalized metrics\n",
        "normalized_df = pd.DataFrame(normalized_metrics, columns=['AIC_norm', 'Rsq_norm', 'FPE_norm', 'BIC_norm', 'RMSE_norm'])\n",
        "selection_df = pd.concat([final_results_df, normalized_df], axis=1)\n",
        "\n",
        "\n",
        "best_models_df = pd.DataFrame()\n",
        "\n",
        "\n",
        "num_models = na_max*nb_max*(xdelay_max+1)\n",
        "cases = len(final_results_df)/(num_models) #12\n",
        "\n",
        "#LOOP for each case (models)\n",
        "for i in range(int(cases)):\n",
        "  print(\"Case: \",i,\"Start: \",(i*num_models),\"End: \",(i+1)*num_models)\n",
        "  #Select each dataset models data\n",
        "  selected_df = selection_df[(i*num_models):(i+1)*num_models].copy()\n",
        "\n",
        "  #Create a Ranking Selection\n",
        "  selected_df['AIC_rank'] = selected_df['AIC'].rank()\n",
        "  selected_df['BIC_rank'] = selected_df['BIC'].rank()\n",
        "\n",
        "  # Rank by Rsq\n",
        "  selected_df['Rsq_rank'] = selected_df['Rsq'].rank(ascending=False)  # Note: ascending=False for Rsq\n",
        "\n",
        "  # Calculate the combined ranking\n",
        "  selected_df['Ranking'] = selected_df['Rsq_rank'] + selected_df['AIC_rank']#+ selected_df['BIC_rank']\n",
        "  best_df = selected_df.sort_values(by='Ranking', ascending=True).iloc[0]\n",
        "\n",
        "  new_row = pd.DataFrame({'Athlete_Code': [best_df['Athlete_Code']],\n",
        "                          'na': [best_df['na']],\n",
        "                          'nb': [best_df['nb']],\n",
        "                          'd': [best_df['d']],\n",
        "                          'Ranking': [best_df['Ranking']],\n",
        "                          'AIC_rank': [best_df['AIC_rank']],\n",
        "                          'Rsq_rank': [best_df['Rsq_rank']],\n",
        "                          'BIC_rank': [best_df['BIC_rank']],\n",
        "                          'Rsq': [best_df['Rsq']],\n",
        "                          'AIC': [best_df['AIC']],\n",
        "                          'BIC': [best_df['BIC']],\n",
        "                          'FPE': [best_df['FPE']],\n",
        "                          'Parameters_a':[parameters_a],\n",
        "                          'Parameters_b':[parameters_b]})\n",
        "\n",
        "  #Save new model\n",
        "  best_models_df = pd.concat([best_models_df, new_row], ignore_index=True)\n",
        "\n",
        "  #print(selected_df.sort_values(by='Rsq', ascending=False)[:3])\n",
        "  #print(selected_df.sort_values(by='AIC', ascending=True)[:3])\n",
        "  #print(selected_df.sort_values(by='FPE', ascending=True)[:3])"
      ]
    },
    {
      "cell_type": "code",
      "execution_count": null,
      "metadata": {
        "id": "kbxRQgRl2XsM"
      },
      "outputs": [],
      "source": [
        "best_models_df"
      ]
    },
    {
      "cell_type": "code",
      "execution_count": null,
      "metadata": {
        "id": "kheguPy62Xoq"
      },
      "outputs": [],
      "source": [
        "#Select one model and applie to all the datasets\n",
        "number_a=3\n",
        "number_b=1\n",
        "d=0\n",
        "one_to_all = pd.DataFrame(columns=['Athlete_Code', 'na', 'nb', 'd','SSG','TC' ,'AIC', 'Rsq','RMSE','BIC','FPE'])\n",
        "counter = nm_count = 0\n",
        "\n",
        "\n",
        "for variation in all_datasets_df:\n",
        "  nm_count += 1\n",
        "  for i in range(0,len(variation.columns),2):\n",
        "    input = variation.columns[i]\n",
        "    output = variation.columns[i+1]\n",
        "    data = pd.concat([variation[input].rename(\"u\"), variation[output].rename(\"y\")], axis=1)\n",
        "\n",
        "    #print('\\nModel #{} \\nwith {} a parameters, {} b parameters and {} time delay'.format(model_count,number_a,number_b,d))\n",
        "    #load the associated data using dataloader(data, na, nb, d)\n",
        "\n",
        "    y_loader, y_auto, parameters_a, parameters_b, SSG, tau, r_squared, aic, Rmse, bic, fpe = model_generator(data, number_a, number_b, d)\n",
        "\n",
        "\n",
        "\n",
        "    new_row = pd.DataFrame({'Athlete_Code': code_name[nm_count-1],'SSG':[SSG],'TC':[tau], 'Parameters_a':[parameters_a], 'Parameters_b':[parameters_b], 'na': [number_a], 'nb': [number_b], 'd': [d], 'AIC': [aic], 'Rsq': [r_squared],'RMSE':[Rmse], 'BIC':[bic],'FPE':[fpe]})\n",
        "\n",
        "    one_to_all = pd.concat([one_to_all, new_row], ignore_index=True)\n",
        "\n",
        "\n",
        "\n",
        "  print(\"its regression yield r squared: {}, Akaike's information criteria: {}\".format(r_squared, aic))\n",
        "\n",
        "  # Save relevant information to the empty lists\n",
        "  #new_row = pd.DataFrame({'Athlete_Code': code_name[i],'Model_Index': [model_count], 'na': [na], 'nb': [nb], 'd': [d], 'AIC': [aic], 'Rsq': [r_squared],'RMSE':[Rmse], 'BIC':[bic],'FPE':[fpe]})\n",
        "  #results_df = pd.concat([results_df, new_row], ignore_index=True)\n",
        "        # Update the model counter\n",
        "  model_count += 1\n",
        "\n",
        "\n",
        "  #Plot\n",
        "  #Ploting\n",
        "  plt.figure(figsize=(20, 6))\n",
        "  X_axis = np.arange(0,y_loader.shape[0])\n",
        "  #print(X_axis)\n",
        "  # Plot the actual values (y_loader)\n",
        "  plt.plot(data['y'], label='Real Value (y_loader)', color='blue')\n",
        "  plt.plot(data['u'], label='Real Input (y_loader)', color='purple', linestyle=':')\n",
        "  # Plot the original data (y)    *AUTOMATIC\n",
        "  plt.plot(X_axis, y_auto, label='Predicted Automatic (y_auto)', color='red', linestyle='--')\n",
        "\n",
        "  # Add labels and title\n",
        "  plt.xlabel('Time / Index')\n",
        "  plt.ylabel('Values')\n",
        "  plt.title('Comparison of Real data (y_loader) and Model Prediction (y_auto)')\n",
        "  plt.legend()  # Add a legend\n",
        "  plt.grid(True) # Add grid lines for better readability\n",
        "  # Adjust the y-axis limits if necessary for better visualization\n",
        "  #plt.ylim([50, 200])\n",
        "  plt.show()\n",
        "\n",
        "\n",
        "#Do the parameter estimates vary a lot between the subjects or between the volleyball matches?\n",
        "\n"
      ]
    },
    {
      "cell_type": "code",
      "execution_count": null,
      "metadata": {
        "id": "bmjH-KV52XlZ"
      },
      "outputs": [],
      "source": [
        "one_to_all"
      ]
    },
    {
      "cell_type": "code",
      "execution_count": null,
      "metadata": {
        "id": "f29z5mXj2Xfx"
      },
      "outputs": [],
      "source": [
        "#Simulation best model structure\n",
        "number_a=1\n",
        "number_b=2\n",
        "d=0\n",
        "\n",
        "data = athlete_list[2]\n",
        "# print the relative dataframe and check its columns\n",
        "y_loader, y_auto, parameters_a, parameters_b, SSG, tau, r_squared, aic, Rmse, bic, fpe = model_generator(data, number_a, number_b, d)\n",
        "\n",
        "\n",
        "#Ploting\n",
        "plt.figure(figsize=(20, 6))\n",
        "X_axis = np.arange(0,y_loader.shape[0])\n",
        "print(X_axis)\n",
        "# Plot the actual values (y_loader)\n",
        "plt.plot(data['y'], label='Real Value (y_loader)', color='blue')\n",
        "plt.plot(data['u'], label='Real Input (y_loader)', color='purple', linestyle=':')\n",
        "# Plot the original data (y)    *AUTOMATIC\n",
        "plt.plot(X_axis, y_auto, label='Predicted Automatic (y_auto)', color='red', linestyle='--')\n",
        "\n",
        "# Add labels and title\n",
        "plt.xlabel('Time / Index')\n",
        "plt.ylabel('Values')\n",
        "plt.title('Comparison of Real data (y_loader) and Model Prediction (y_auto)')\n",
        "plt.legend()  # Add a legend\n",
        "plt.grid(True) # Add grid lines for better readability\n",
        "# Adjust the y-axis limits if necessary for better visualization\n",
        "#plt.ylim([50, 200])\n",
        "plt.show()"
      ]
    },
    {
      "cell_type": "code",
      "execution_count": null,
      "metadata": {
        "id": "4SEb1_cZ2XV7"
      },
      "outputs": [],
      "source": []
    },
    {
      "cell_type": "code",
      "execution_count": null,
      "metadata": {
        "id": "WUQjIxbibm-B"
      },
      "outputs": [],
      "source": [
        "def dataloader(data, na, nb, d):\n",
        "\n",
        "    # Initialize empty arrays for lagged features\n",
        "    u = data['u']\n",
        "    X = pd.DataFrame()\n",
        "    y = data['y']\n",
        "\n",
        "\n",
        "    # Create lagged features for input ('b' parameters)\n",
        "    for i in range(0,nb):\n",
        "        X['u-{}'.format(i + d)] = u.shift(i + d)\n",
        "    # Create lagged features for output ('a' parameters)\n",
        "    for i in range(1,na+1):\n",
        "        X['y-{}'.format(i)] = y.shift(i)\n",
        "\n",
        "\n",
        "    X = X.iloc[max(na,nb+d):]\n",
        "    # Set the target values\n",
        "    y = y[max(na,nb+d):]\n",
        "\n",
        "    X.reset_index(drop=True, inplace=True)\n",
        "    y.reset_index(drop=True, inplace=True)\n",
        "    return X, y"
      ]
    }
  ],
  "metadata": {
    "accelerator": "GPU",
    "colab": {
      "gpuType": "T4",
      "provenance": [],
      "collapsed_sections": [
        "q1AazuAHNfBq",
        "PlOimBKSduws"
      ],
      "include_colab_link": true
    },
    "kernelspec": {
      "display_name": "Python 3",
      "name": "python3"
    },
    "language_info": {
      "name": "python"
    }
  },
  "nbformat": 4,
  "nbformat_minor": 0
}